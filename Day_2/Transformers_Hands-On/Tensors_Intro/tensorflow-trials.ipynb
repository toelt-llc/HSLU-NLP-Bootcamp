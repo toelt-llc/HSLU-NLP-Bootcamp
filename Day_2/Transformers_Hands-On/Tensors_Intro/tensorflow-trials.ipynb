{
 "cells": [
  {
   "cell_type": "markdown",
   "metadata": {},
   "source": [
    "## The Tensorflow Trials\n",
    "\n",
    "<a target=\"_blank\" href=\"https://colab.research.google.com/github/toelt-llc/HSLU-NLP-Bootcamp/blob/main/Day_2/Transformers_Hands-On/Tensors_Intro/tensorflow-trials.ipynb\">\n",
    "  <img src=\"https://colab.research.google.com/assets/colab-badge.svg\" alt=\"Open In Colab\"/>\n",
    "</a>"
   ]
  },
  {
   "cell_type": "markdown",
   "metadata": {},
   "source": [
    "Over the course of today's challenges, you'll be manipulating tensors extensively and working with some unconventional model architectures. \n",
    "\n",
    "In this warm up, you'll be introduced to some new methods. \n",
    "\n",
    "All the methods here are going to make tackling challenges later in the day 100x easier, so if you do get stuck later on, make sure you come back here to see how you achieved the right answers. "
   ]
  },
  {
   "cell_type": "code",
   "execution_count": 1,
   "metadata": {},
   "outputs": [
    {
     "name": "stderr",
     "output_type": "stream",
     "text": [
      "2025-03-18 18:29:45.839087: I tensorflow/core/platform/cpu_feature_guard.cc:210] This TensorFlow binary is optimized to use available CPU instructions in performance-critical operations.\n",
      "To enable the following instructions: AVX2 FMA, in other operations, rebuild TensorFlow with the appropriate compiler flags.\n"
     ]
    }
   ],
   "source": [
    "import tensorflow as tf"
   ]
  },
  {
   "cell_type": "markdown",
   "metadata": {},
   "source": [
    "A) Use `tf.ones` to create a tensor `a` filled with ones of shape (3,3)."
   ]
  },
  {
   "cell_type": "code",
   "execution_count": 2,
   "metadata": {},
   "outputs": [],
   "source": [
    "\n",
    "a = tf.ones(shape = (3,3))\n"
   ]
  },
  {
   "cell_type": "markdown",
   "metadata": {},
   "source": [
    "B) Use tf.expand_dims to make `a` an object of shape (1,3,3) called `b`."
   ]
  },
  {
   "cell_type": "code",
   "execution_count": 3,
   "metadata": {},
   "outputs": [
    {
     "name": "stdout",
     "output_type": "stream",
     "text": [
      "(1, 3, 3)\n"
     ]
    }
   ],
   "source": [
    "\n",
    "b = tf.expand_dims(a, 0)\n",
    "print(b.shape)\n"
   ]
  },
  {
   "cell_type": "markdown",
   "metadata": {},
   "source": [
    "C) Create a tensor `c` filled with zeroes of size (9,1)"
   ]
  },
  {
   "cell_type": "code",
   "execution_count": 4,
   "metadata": {},
   "outputs": [],
   "source": [
    "\n",
    "c = tf.zeros(shape = (9,1))\n"
   ]
  },
  {
   "cell_type": "markdown",
   "metadata": {},
   "source": [
    "D) Reshape `c` to be of shape (1, 3, 3). Name it `d`."
   ]
  },
  {
   "cell_type": "code",
   "execution_count": 5,
   "metadata": {},
   "outputs": [],
   "source": [
    "\n",
    "d = tf.reshape(c, shape = (1,3,3))\n"
   ]
  },
  {
   "cell_type": "markdown",
   "metadata": {},
   "source": [
    "E) Use `tf.matmul` to matrix multiply `b` and `d` with each other and now assign the tensor to `e`. "
   ]
  },
  {
   "cell_type": "code",
   "execution_count": 6,
   "metadata": {},
   "outputs": [],
   "source": [
    "\n",
    "e = tf.matmul(b, d)\n"
   ]
  },
  {
   "cell_type": "markdown",
   "metadata": {},
   "source": [
    "F) Below is a `numpy` array. Convert it to a tensor named `array_tensor`. Then use `tf.cast` to ensure it is of dtype `float` not `int`. Assign the result to `f`."
   ]
  },
  {
   "cell_type": "code",
   "execution_count": 7,
   "metadata": {},
   "outputs": [],
   "source": [
    "import numpy as np"
   ]
  },
  {
   "cell_type": "code",
   "execution_count": 8,
   "metadata": {},
   "outputs": [],
   "source": [
    "array = np.array([[\n",
    "    [1,2,3],\n",
    "    [1,2,3],\n",
    "    [4,5,6],\n",
    "    [7,8,9]\n",
    "]])"
   ]
  },
  {
   "cell_type": "code",
   "execution_count": 9,
   "metadata": {},
   "outputs": [],
   "source": [
    "\n",
    "array_tensor = tf.convert_to_tensor(array)\n",
    "f = tf.cast(array_tensor, float)\n"
   ]
  },
  {
   "cell_type": "markdown",
   "metadata": {},
   "source": [
    "G) Select the values in the __last column__ of `f` and save this to `g`. To be clear, `g` should have shape (4,) and contain the values `3,3,6,9`. "
   ]
  },
  {
   "cell_type": "code",
   "execution_count": 10,
   "metadata": {},
   "outputs": [],
   "source": [
    "\n",
    "g = f[0,:,-1]\n"
   ]
  },
  {
   "cell_type": "markdown",
   "metadata": {},
   "source": [
    "H) Expand the dimensions of g so that it's of shape (4,1). Assign this to `h`."
   ]
  },
  {
   "cell_type": "code",
   "execution_count": 11,
   "metadata": {},
   "outputs": [
    {
     "name": "stdout",
     "output_type": "stream",
     "text": [
      "(4, 1)\n"
     ]
    }
   ],
   "source": [
    "\n",
    "h = tf.expand_dims(g, -1)\n",
    "print(h.shape)\n"
   ]
  },
  {
   "cell_type": "markdown",
   "metadata": {},
   "source": [
    "I) Multiply e with f, using `tf.matmul` with the optional `transpose_b` argument (`e` must come first in your positional arguments, then `f`). Assign this to `i`."
   ]
  },
  {
   "cell_type": "code",
   "execution_count": 12,
   "metadata": {},
   "outputs": [],
   "source": [
    "\n",
    "i = tf.matmul(e, f, transpose_b=True)\n"
   ]
  },
  {
   "cell_type": "markdown",
   "metadata": {},
   "source": [
    "J) Create a `(10,10)` tensor filled with ones. Then use `tf.linalg.band_part()` to mask out the upper triangle of the matrix (i.e. the upper triangle should all be 0s). Assign to `j`."
   ]
  },
  {
   "cell_type": "code",
   "execution_count": 13,
   "metadata": {},
   "outputs": [],
   "source": [
    "\n",
    "ones = tf.ones((10,10))\n",
    "j = tf.linalg.band_part(ones, -1, 0)\n"
   ]
  },
  {
   "cell_type": "markdown",
   "metadata": {},
   "source": [
    "K) Take the `number_list` below and make it a tensor. Assign it to `k`."
   ]
  },
  {
   "cell_type": "code",
   "execution_count": 14,
   "metadata": {},
   "outputs": [],
   "source": [
    "number_list = [1,2,3,4,8]"
   ]
  },
  {
   "cell_type": "code",
   "execution_count": 15,
   "metadata": {},
   "outputs": [],
   "source": [
    "\n",
    "k = tf.convert_to_tensor(number_list)\n"
   ]
  },
  {
   "cell_type": "markdown",
   "metadata": {},
   "source": [
    "L) Use `tf.expand_dims` to make `k` into a tensor of shape (1,5). Assign to `l`."
   ]
  },
  {
   "cell_type": "code",
   "execution_count": 16,
   "metadata": {},
   "outputs": [],
   "source": [
    "\n",
    "l = tf.expand_dims(k, 0)\n"
   ]
  },
  {
   "cell_type": "markdown",
   "metadata": {},
   "source": [
    "M) Use `tf.tile` to repeat `l` (read as \"L\") 50 times, with an eventual shape of `(50, 5)`. Assign to `m`."
   ]
  },
  {
   "cell_type": "code",
   "execution_count": 17,
   "metadata": {},
   "outputs": [],
   "source": [
    "\n",
    "m = tf.tile(l, (50,1))\n"
   ]
  },
  {
   "cell_type": "markdown",
   "metadata": {},
   "source": [
    "N) Use a simple Boolean statement to create a tensor containing `True` values for where `m` is 3  and `False` for where it is not 3. Assign to `n`"
   ]
  },
  {
   "cell_type": "code",
   "execution_count": 18,
   "metadata": {},
   "outputs": [],
   "source": [
    "\n",
    "n = m == 3\n"
   ]
  },
  {
   "cell_type": "markdown",
   "metadata": {},
   "source": [
    "O) Divide every value in you variable `m` by 3. Assign to `o`."
   ]
  },
  {
   "cell_type": "code",
   "execution_count": 19,
   "metadata": {},
   "outputs": [],
   "source": [
    "\n",
    "o = m/3\n"
   ]
  },
  {
   "cell_type": "markdown",
   "metadata": {},
   "source": [
    "P) Use `tf.concat()` to take the list of two tensors below of shape (5,5) and (5,5) each and turn them into a final tensor of shape (10,5). Assign to `p`. Think carefully about the concation axis."
   ]
  },
  {
   "cell_type": "code",
   "execution_count": 20,
   "metadata": {},
   "outputs": [],
   "source": [
    "tensor_list = [tf.ones((5,5)), tf.ones((5,5))]"
   ]
  },
  {
   "cell_type": "code",
   "execution_count": 21,
   "metadata": {},
   "outputs": [],
   "source": [
    "\n",
    "p = tf.concat(tensor_list, axis=0)\n"
   ]
  },
  {
   "cell_type": "markdown",
   "metadata": {},
   "source": [
    "### Check your answers"
   ]
  },
  {
   "cell_type": "code",
   "execution_count": 22,
   "id": "cf17dbe9",
   "metadata": {},
   "outputs": [
    {
     "data": {
      "text/plain": [
       "{'a': <tf.Tensor: shape=(3, 3), dtype=float32, numpy=\n",
       " array([[1., 1., 1.],\n",
       "        [1., 1., 1.],\n",
       "        [1., 1., 1.]], dtype=float32)>,\n",
       " 'b': <tf.Tensor: shape=(1, 3, 3), dtype=float32, numpy=\n",
       " array([[[1., 1., 1.],\n",
       "         [1., 1., 1.],\n",
       "         [1., 1., 1.]]], dtype=float32)>,\n",
       " 'c': <tf.Tensor: shape=(9, 1), dtype=float32, numpy=\n",
       " array([[0.],\n",
       "        [0.],\n",
       "        [0.],\n",
       "        [0.],\n",
       "        [0.],\n",
       "        [0.],\n",
       "        [0.],\n",
       "        [0.],\n",
       "        [0.]], dtype=float32)>,\n",
       " 'd_shape': TensorShape([1, 3, 3]),\n",
       " 'e': <tf.Tensor: shape=(1, 3, 3), dtype=float32, numpy=\n",
       " array([[[0., 0., 0.],\n",
       "         [0., 0., 0.],\n",
       "         [0., 0., 0.]]], dtype=float32)>,\n",
       " 'f': <tf.Tensor: shape=(1, 4, 3), dtype=float32, numpy=\n",
       " array([[[1., 2., 3.],\n",
       "         [1., 2., 3.],\n",
       "         [4., 5., 6.],\n",
       "         [7., 8., 9.]]], dtype=float32)>,\n",
       " 'g': <tf.Tensor: shape=(4,), dtype=float32, numpy=array([3., 3., 6., 9.], dtype=float32)>,\n",
       " 'i': <tf.Tensor: shape=(1, 3, 4), dtype=float32, numpy=\n",
       " array([[[0., 0., 0., 0.],\n",
       "         [0., 0., 0., 0.],\n",
       "         [0., 0., 0., 0.]]], dtype=float32)>,\n",
       " 'j': <tf.Tensor: shape=(10, 10), dtype=float32, numpy=\n",
       " array([[1., 0., 0., 0., 0., 0., 0., 0., 0., 0.],\n",
       "        [1., 1., 0., 0., 0., 0., 0., 0., 0., 0.],\n",
       "        [1., 1., 1., 0., 0., 0., 0., 0., 0., 0.],\n",
       "        [1., 1., 1., 1., 0., 0., 0., 0., 0., 0.],\n",
       "        [1., 1., 1., 1., 1., 0., 0., 0., 0., 0.],\n",
       "        [1., 1., 1., 1., 1., 1., 0., 0., 0., 0.],\n",
       "        [1., 1., 1., 1., 1., 1., 1., 0., 0., 0.],\n",
       "        [1., 1., 1., 1., 1., 1., 1., 1., 0., 0.],\n",
       "        [1., 1., 1., 1., 1., 1., 1., 1., 1., 0.],\n",
       "        [1., 1., 1., 1., 1., 1., 1., 1., 1., 1.]], dtype=float32)>,\n",
       " 'k': <tf.Tensor: shape=(5,), dtype=int32, numpy=array([1, 2, 3, 4, 8], dtype=int32)>,\n",
       " 'l': <tf.Tensor: shape=(1, 5), dtype=int32, numpy=array([[1, 2, 3, 4, 8]], dtype=int32)>,\n",
       " 'm': <tf.Tensor: shape=(50, 5), dtype=int32, numpy=\n",
       " array([[1, 2, 3, 4, 8],\n",
       "        [1, 2, 3, 4, 8],\n",
       "        [1, 2, 3, 4, 8],\n",
       "        [1, 2, 3, 4, 8],\n",
       "        [1, 2, 3, 4, 8],\n",
       "        [1, 2, 3, 4, 8],\n",
       "        [1, 2, 3, 4, 8],\n",
       "        [1, 2, 3, 4, 8],\n",
       "        [1, 2, 3, 4, 8],\n",
       "        [1, 2, 3, 4, 8],\n",
       "        [1, 2, 3, 4, 8],\n",
       "        [1, 2, 3, 4, 8],\n",
       "        [1, 2, 3, 4, 8],\n",
       "        [1, 2, 3, 4, 8],\n",
       "        [1, 2, 3, 4, 8],\n",
       "        [1, 2, 3, 4, 8],\n",
       "        [1, 2, 3, 4, 8],\n",
       "        [1, 2, 3, 4, 8],\n",
       "        [1, 2, 3, 4, 8],\n",
       "        [1, 2, 3, 4, 8],\n",
       "        [1, 2, 3, 4, 8],\n",
       "        [1, 2, 3, 4, 8],\n",
       "        [1, 2, 3, 4, 8],\n",
       "        [1, 2, 3, 4, 8],\n",
       "        [1, 2, 3, 4, 8],\n",
       "        [1, 2, 3, 4, 8],\n",
       "        [1, 2, 3, 4, 8],\n",
       "        [1, 2, 3, 4, 8],\n",
       "        [1, 2, 3, 4, 8],\n",
       "        [1, 2, 3, 4, 8],\n",
       "        [1, 2, 3, 4, 8],\n",
       "        [1, 2, 3, 4, 8],\n",
       "        [1, 2, 3, 4, 8],\n",
       "        [1, 2, 3, 4, 8],\n",
       "        [1, 2, 3, 4, 8],\n",
       "        [1, 2, 3, 4, 8],\n",
       "        [1, 2, 3, 4, 8],\n",
       "        [1, 2, 3, 4, 8],\n",
       "        [1, 2, 3, 4, 8],\n",
       "        [1, 2, 3, 4, 8],\n",
       "        [1, 2, 3, 4, 8],\n",
       "        [1, 2, 3, 4, 8],\n",
       "        [1, 2, 3, 4, 8],\n",
       "        [1, 2, 3, 4, 8],\n",
       "        [1, 2, 3, 4, 8],\n",
       "        [1, 2, 3, 4, 8],\n",
       "        [1, 2, 3, 4, 8],\n",
       "        [1, 2, 3, 4, 8],\n",
       "        [1, 2, 3, 4, 8],\n",
       "        [1, 2, 3, 4, 8]], dtype=int32)>,\n",
       " 'n': <tf.Tensor: shape=(50, 5), dtype=bool, numpy=\n",
       " array([[False, False,  True, False, False],\n",
       "        [False, False,  True, False, False],\n",
       "        [False, False,  True, False, False],\n",
       "        [False, False,  True, False, False],\n",
       "        [False, False,  True, False, False],\n",
       "        [False, False,  True, False, False],\n",
       "        [False, False,  True, False, False],\n",
       "        [False, False,  True, False, False],\n",
       "        [False, False,  True, False, False],\n",
       "        [False, False,  True, False, False],\n",
       "        [False, False,  True, False, False],\n",
       "        [False, False,  True, False, False],\n",
       "        [False, False,  True, False, False],\n",
       "        [False, False,  True, False, False],\n",
       "        [False, False,  True, False, False],\n",
       "        [False, False,  True, False, False],\n",
       "        [False, False,  True, False, False],\n",
       "        [False, False,  True, False, False],\n",
       "        [False, False,  True, False, False],\n",
       "        [False, False,  True, False, False],\n",
       "        [False, False,  True, False, False],\n",
       "        [False, False,  True, False, False],\n",
       "        [False, False,  True, False, False],\n",
       "        [False, False,  True, False, False],\n",
       "        [False, False,  True, False, False],\n",
       "        [False, False,  True, False, False],\n",
       "        [False, False,  True, False, False],\n",
       "        [False, False,  True, False, False],\n",
       "        [False, False,  True, False, False],\n",
       "        [False, False,  True, False, False],\n",
       "        [False, False,  True, False, False],\n",
       "        [False, False,  True, False, False],\n",
       "        [False, False,  True, False, False],\n",
       "        [False, False,  True, False, False],\n",
       "        [False, False,  True, False, False],\n",
       "        [False, False,  True, False, False],\n",
       "        [False, False,  True, False, False],\n",
       "        [False, False,  True, False, False],\n",
       "        [False, False,  True, False, False],\n",
       "        [False, False,  True, False, False],\n",
       "        [False, False,  True, False, False],\n",
       "        [False, False,  True, False, False],\n",
       "        [False, False,  True, False, False],\n",
       "        [False, False,  True, False, False],\n",
       "        [False, False,  True, False, False],\n",
       "        [False, False,  True, False, False],\n",
       "        [False, False,  True, False, False],\n",
       "        [False, False,  True, False, False],\n",
       "        [False, False,  True, False, False],\n",
       "        [False, False,  True, False, False]])>,\n",
       " 'o': <tf.Tensor: shape=(50, 5), dtype=float64, numpy=\n",
       " array([[0.33333333, 0.66666667, 1.        , 1.33333333, 2.66666667],\n",
       "        [0.33333333, 0.66666667, 1.        , 1.33333333, 2.66666667],\n",
       "        [0.33333333, 0.66666667, 1.        , 1.33333333, 2.66666667],\n",
       "        [0.33333333, 0.66666667, 1.        , 1.33333333, 2.66666667],\n",
       "        [0.33333333, 0.66666667, 1.        , 1.33333333, 2.66666667],\n",
       "        [0.33333333, 0.66666667, 1.        , 1.33333333, 2.66666667],\n",
       "        [0.33333333, 0.66666667, 1.        , 1.33333333, 2.66666667],\n",
       "        [0.33333333, 0.66666667, 1.        , 1.33333333, 2.66666667],\n",
       "        [0.33333333, 0.66666667, 1.        , 1.33333333, 2.66666667],\n",
       "        [0.33333333, 0.66666667, 1.        , 1.33333333, 2.66666667],\n",
       "        [0.33333333, 0.66666667, 1.        , 1.33333333, 2.66666667],\n",
       "        [0.33333333, 0.66666667, 1.        , 1.33333333, 2.66666667],\n",
       "        [0.33333333, 0.66666667, 1.        , 1.33333333, 2.66666667],\n",
       "        [0.33333333, 0.66666667, 1.        , 1.33333333, 2.66666667],\n",
       "        [0.33333333, 0.66666667, 1.        , 1.33333333, 2.66666667],\n",
       "        [0.33333333, 0.66666667, 1.        , 1.33333333, 2.66666667],\n",
       "        [0.33333333, 0.66666667, 1.        , 1.33333333, 2.66666667],\n",
       "        [0.33333333, 0.66666667, 1.        , 1.33333333, 2.66666667],\n",
       "        [0.33333333, 0.66666667, 1.        , 1.33333333, 2.66666667],\n",
       "        [0.33333333, 0.66666667, 1.        , 1.33333333, 2.66666667],\n",
       "        [0.33333333, 0.66666667, 1.        , 1.33333333, 2.66666667],\n",
       "        [0.33333333, 0.66666667, 1.        , 1.33333333, 2.66666667],\n",
       "        [0.33333333, 0.66666667, 1.        , 1.33333333, 2.66666667],\n",
       "        [0.33333333, 0.66666667, 1.        , 1.33333333, 2.66666667],\n",
       "        [0.33333333, 0.66666667, 1.        , 1.33333333, 2.66666667],\n",
       "        [0.33333333, 0.66666667, 1.        , 1.33333333, 2.66666667],\n",
       "        [0.33333333, 0.66666667, 1.        , 1.33333333, 2.66666667],\n",
       "        [0.33333333, 0.66666667, 1.        , 1.33333333, 2.66666667],\n",
       "        [0.33333333, 0.66666667, 1.        , 1.33333333, 2.66666667],\n",
       "        [0.33333333, 0.66666667, 1.        , 1.33333333, 2.66666667],\n",
       "        [0.33333333, 0.66666667, 1.        , 1.33333333, 2.66666667],\n",
       "        [0.33333333, 0.66666667, 1.        , 1.33333333, 2.66666667],\n",
       "        [0.33333333, 0.66666667, 1.        , 1.33333333, 2.66666667],\n",
       "        [0.33333333, 0.66666667, 1.        , 1.33333333, 2.66666667],\n",
       "        [0.33333333, 0.66666667, 1.        , 1.33333333, 2.66666667],\n",
       "        [0.33333333, 0.66666667, 1.        , 1.33333333, 2.66666667],\n",
       "        [0.33333333, 0.66666667, 1.        , 1.33333333, 2.66666667],\n",
       "        [0.33333333, 0.66666667, 1.        , 1.33333333, 2.66666667],\n",
       "        [0.33333333, 0.66666667, 1.        , 1.33333333, 2.66666667],\n",
       "        [0.33333333, 0.66666667, 1.        , 1.33333333, 2.66666667],\n",
       "        [0.33333333, 0.66666667, 1.        , 1.33333333, 2.66666667],\n",
       "        [0.33333333, 0.66666667, 1.        , 1.33333333, 2.66666667],\n",
       "        [0.33333333, 0.66666667, 1.        , 1.33333333, 2.66666667],\n",
       "        [0.33333333, 0.66666667, 1.        , 1.33333333, 2.66666667],\n",
       "        [0.33333333, 0.66666667, 1.        , 1.33333333, 2.66666667],\n",
       "        [0.33333333, 0.66666667, 1.        , 1.33333333, 2.66666667],\n",
       "        [0.33333333, 0.66666667, 1.        , 1.33333333, 2.66666667],\n",
       "        [0.33333333, 0.66666667, 1.        , 1.33333333, 2.66666667],\n",
       "        [0.33333333, 0.66666667, 1.        , 1.33333333, 2.66666667],\n",
       "        [0.33333333, 0.66666667, 1.        , 1.33333333, 2.66666667]])>,\n",
       " 'p_shape': TensorShape([10, 5])}"
      ]
     },
     "metadata": {},
     "output_type": "display_data"
    }
   ],
   "source": [
    "results_dict = {\n",
    "    \"a\": a,\n",
    "    \"b\": b,\n",
    "    \"c\": c,\n",
    "    \"d_shape\": d.shape ,\n",
    "    \"e\": e,\n",
    "    \"f\": f,\n",
    "    \"g\": g,\n",
    "    \"i\": i,\n",
    "    \"j\": j,\n",
    "    \"k\": k,\n",
    "    \"l\": l,\n",
    "    \"m\": m,\n",
    "    \"n\": n,\n",
    "    \"o\": o,\n",
    "    \"p_shape\": p.shape,\n",
    "}\n",
    "\n",
    "display(results_dict)"
   ]
  },
  {
   "cell_type": "code",
   "execution_count": 23,
   "id": "1357069e",
   "metadata": {},
   "outputs": [
    {
     "name": "stdout",
     "output_type": "stream",
     "text": [
      "\u001b[1m============================= test session starts ==============================\u001b[0m\n",
      "platform darwin -- Python 3.12.0, pytest-8.3.5, pluggy-1.5.0\n",
      "rootdir: /Users/arnaud/Documents/GitHub/bootcamp_fs2025/Transformers_Hands-On/Tensors_Intro\n",
      "plugins: anyio-4.8.0, typeguard-4.3.0\n",
      "collected 15 items\n",
      "\n",
      "test_tensors.py \u001b[32m.\u001b[0m\u001b[32m.\u001b[0m\u001b[32m.\u001b[0m\u001b[32m.\u001b[0m\u001b[32m.\u001b[0m\u001b[32m.\u001b[0m\u001b[32m.\u001b[0m\u001b[32m.\u001b[0m\u001b[32m.\u001b[0m\u001b[32m.\u001b[0m\u001b[32m.\u001b[0m\u001b[32m.\u001b[0m\u001b[32m.\u001b[0m\u001b[32m.\u001b[0m\u001b[32m.\u001b[0m\u001b[32m                                          [100%]\u001b[0m\n",
      "\n",
      "\u001b[32m============================== \u001b[32m\u001b[1m15 passed\u001b[0m\u001b[32m in 0.22s\u001b[0m\u001b[32m ==============================\u001b[0m\n"
     ]
    },
    {
     "data": {
      "text/plain": [
       "<ExitCode.OK: 0>"
      ]
     },
     "execution_count": 23,
     "metadata": {},
     "output_type": "execute_result"
    }
   ],
   "source": [
    "import pytest\n",
    "\n",
    "# Inject results dictionary into test module before running pytest\n",
    "import test_tensors\n",
    "test_tensors.results_dict = results_dict\n",
    "\n",
    "pytest.main([\"test_tensors.py\"])\n"
   ]
  },
  {
   "cell_type": "markdown",
   "metadata": {},
   "source": [
    "### Great work !"
   ]
  }
 ],
 "metadata": {
  "kernelspec": {
   "display_name": "nlptest",
   "language": "python",
   "name": "python3"
  },
  "language_info": {
   "codemirror_mode": {
    "name": "ipython",
    "version": 3
   },
   "file_extension": ".py",
   "mimetype": "text/x-python",
   "name": "python",
   "nbconvert_exporter": "python",
   "pygments_lexer": "ipython3",
   "version": "3.12.0"
  }
 },
 "nbformat": 4,
 "nbformat_minor": 5
}
