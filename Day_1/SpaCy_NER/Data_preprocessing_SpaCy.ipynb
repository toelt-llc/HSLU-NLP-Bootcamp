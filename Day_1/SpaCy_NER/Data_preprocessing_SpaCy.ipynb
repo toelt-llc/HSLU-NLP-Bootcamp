{
  "cells": [
    {
      "cell_type": "markdown",
      "metadata": {
        "id": "ctbXKd9xoFPR"
      },
      "source": [
        "## SpaCy\n",
        "SpaCy is an open-source library for advanced Natural Language Processing (NLP) in Python. Designed for use in production environments. Very performant and efficient library for industial applications, providing a fast and powerful solution for various NLP tasks.\n",
        "\n",
        "**Features:**\n",
        "\n",
        "*   Support for 75+ languages\n",
        "*   84 trained pipelines for 25 languages\n",
        "*   Multi-task learning with pretrained transformers like BERT\n",
        "*   Pretrained word vectors\n",
        "*   State-of-the-art speed\n",
        "*   Production-ready training system\n",
        "*   Linguistically-motivated tokenization\n",
        "*   Components for named entity recognition, part-of-speech tagging, dependency parsing, sentence segmentation, text classification, lemmatization, morphological analysis, entity linking and more\n",
        "*   Easily extensible with custom components and attributes\n",
        "*   Support for custom models in PyTorch, TensorFlow and other frameworks\n",
        "*   Built in visualizers for syntax and NER\n",
        "*   Easy model packaging, deployment and workflow management\n",
        "*   Robust, rigorously evaluated accuracy                                     \n",
        "\n",
        "See all details here https://spacy.io/\n",
        "\n"
      ]
    },
    {
      "cell_type": "markdown",
      "metadata": {
        "id": "qbgXv000pyDD"
      },
      "source": [
        "\n",
        "# Task\n",
        " Using the SpaCy library, you will do efficient data cleaning, tokenization, and preprocessing of text\n",
        "\n",
        "<a target=\"_blank\" href=\"https://colab.research.google.com/github/toelt-llc/HSLU-NLP-Bootcamp/blob/main/Day_1/SpaCy_NER/Bootcamp_NLP_Data_preprocessing_SpaCy.ipynb\">\n",
        "  <img src=\"https://colab.research.google.com/assets/colab-badge.svg\" alt=\"Open In Colab\"/>\n",
        "</a>\n",
        "\n"
      ]
    },
    {
      "cell_type": "markdown",
      "metadata": {
        "id": "E5eh5WAorlZl"
      },
      "source": [
        "# Setup"
      ]
    },
    {
      "cell_type": "markdown",
      "metadata": {
        "id": "m5_0VnxorhLY"
      },
      "source": [
        "## Step 1: Install SpaCy and Download a Language Model\n",
        "\n",
        "First, ensure you have SpaCy installed along with a language model. You can do this using pip. There are a few available language models. We will use the English one. https://spacy.io/models/en\n",
        "\n"
      ]
    },
    {
      "cell_type": "code",
      "execution_count": 1,
      "metadata": {
        "colab": {
          "base_uri": "https://localhost:8080/"
        },
        "id": "6glGuaOFrina",
        "outputId": "0633fdfd-2247-44a4-c1a0-f0bd03de8fbb"
      },
      "outputs": [
        {
          "name": "stdout",
          "output_type": "stream",
          "text": [
            "Collecting en-core-web-sm==3.8.0\n",
            "  Downloading https://github.com/explosion/spacy-models/releases/download/en_core_web_sm-3.8.0/en_core_web_sm-3.8.0-py3-none-any.whl (12.8 MB)\n",
            "\u001b[2K     \u001b[90m━━━━━━━━━━━━━━━━━━━━━━━━━━━━━━━━━━━━━━━━\u001b[0m \u001b[32m12.8/12.8 MB\u001b[0m \u001b[31m8.8 MB/s\u001b[0m eta \u001b[36m0:00:00\u001b[0m00:01\u001b[0m00:01\u001b[0mm\n",
            "\u001b[?25hInstalling collected packages: en-core-web-sm\n",
            "Successfully installed en-core-web-sm-3.8.0\n",
            "\u001b[38;5;2m✔ Download and installation successful\u001b[0m\n",
            "You can now load the package via spacy.load('en_core_web_sm')\n"
          ]
        }
      ],
      "source": [
        "!pip install -q spacy -q\n",
        "!python -m spacy download en_core_web_sm\n"
      ]
    },
    {
      "cell_type": "code",
      "execution_count": 2,
      "metadata": {
        "id": "7mqIMkdLvojc"
      },
      "outputs": [],
      "source": [
        "# inslall beautifulsoup4 library for HTML tag removal\n",
        "!pip install -q spacy beautifulsoup4"
      ]
    },
    {
      "cell_type": "markdown",
      "metadata": {
        "id": "_f2H7ZJ3rlHz"
      },
      "source": [
        "###Step2: Import Required Libraries and Load SpaCy Model\n",
        "\n",
        "Start by importing the necessary libraries and loading the SpaCy language model.\n",
        "\n",
        "python\n"
      ]
    },
    {
      "cell_type": "code",
      "execution_count": 3,
      "metadata": {
        "id": "-3YFJOdib93P"
      },
      "outputs": [],
      "source": [
        "#Import the regular expressions (regex) library.\n",
        "# Regex allows us to search for and manipulate text based on patterns.\n",
        "import re"
      ]
    },
    {
      "cell_type": "markdown",
      "metadata": {
        "id": "R6gIyj6LkVmD"
      },
      "source": [
        "# Regular Expressions (Regex) in Python\n",
        "\n",
        "## Overview\n",
        "Regular Expressions (Regex) is a powerful library for text pattern matching and manipulation in Python. It provides tools for searching, matching, and modifying strings based on patterns.\n",
        "\n",
        "## Documentation & Resources\n",
        "- [Official Python Regex Documentation](https://docs.python.org/3/library/re.html)\n",
        "- [Regular Expression HOWTO](https://docs.python.org/3/howto/regex.html)\n",
        "- [Regex Testing Tool](https://regex101.com/) - Interactive regex pattern tester\n",
        "\n",
        "## Key Features\n",
        "The `re` module in Python provides:\n",
        "- Pattern matching in strings\n",
        "- Text validation\n",
        "- Complex string manipulations\n",
        "- Search and replace functionality\n",
        "\n"
      ]
    },
    {
      "cell_type": "markdown",
      "metadata": {
        "id": "0PTy9JEJjpvr"
      },
      "source": [
        "# Common Pattern Symbols in Regular Expressions\n",
        "\n",
        "| Symbol | Description |\n",
        "|--------|-------------|\n",
        "| `.` | Any character except newline |\n",
        "| `^` | Start of string |\n",
        "| `$` | End of string |\n",
        "| `*` | Zero or more occurrences |\n",
        "| `+` | One or more occurrences |\n",
        "| `?` | Zero or one occurrence |\n",
        "| `{n}` | Exactly n occurrences |\n",
        "| `{n,}` | n or more occurrences |\n",
        "| `{n,m}` | Between n and m occurrences |\n",
        "| `[]` | Set of characters |\n",
        "| `[^]` | Complement of set |\n",
        "| `\\d` | Digit [0-9] |\n",
        "| `\\D` | Non-digit |\n",
        "| `\\w` | Word character [a-zA-Z0-9_] |\n",
        "| `\\W` | Non-word character |\n",
        "| `\\s` | Whitespace |\n",
        "| `\\S` | Non-whitespace |\n",
        "| `\\b` | Word boundary |\n",
        "| `\\B` | Non-word boundary |"
      ]
    },
    {
      "cell_type": "markdown",
      "metadata": {
        "id": "1l5shns6CQU7"
      },
      "source": [
        "#### Main Regex Methods:\n"
      ]
    },
    {
      "cell_type": "code",
      "execution_count": 4,
      "metadata": {
        "colab": {
          "base_uri": "https://localhost:8080/"
        },
        "id": "x2w6v8w9Ci5X",
        "outputId": "a879f896-96b8-4c05-f3d3-9c9e2dbdd769"
      },
      "outputs": [
        {
          "name": "stdout",
          "output_type": "stream",
          "text": [
            "<re.Match object; span=(0, 5), match='Hello'>\n",
            "None\n"
          ]
        }
      ],
      "source": [
        "# 1. re.match(pattern, string)\n",
        "# Checks if pattern matches at the BEGINNING of the string\n",
        "text = \"Hello World\"\n",
        "result = re.match(r'Hello', text)  # Matches\n",
        "print(result)\n",
        "result = re.match(r'World', text)  # Doesn't match (not at start)\n",
        "print(result)\n"
      ]
    },
    {
      "cell_type": "code",
      "execution_count": 5,
      "metadata": {
        "colab": {
          "base_uri": "https://localhost:8080/"
        },
        "id": "OwXPv1nECT_r",
        "outputId": "06331525-9f51-4900-bed6-5e6ab386e642"
      },
      "outputs": [
        {
          "name": "stdout",
          "output_type": "stream",
          "text": [
            "<re.Match object; span=(6, 11), match='World'>\n"
          ]
        }
      ],
      "source": [
        "# 2. re.search(pattern, string)\n",
        "# Searches for pattern ANYWHERE in the string\n",
        "text = \"Hello World\"\n",
        "result = re.search(r'World', text)  # Matches\n",
        "print(result)"
      ]
    },
    {
      "cell_type": "code",
      "execution_count": 6,
      "metadata": {
        "colab": {
          "base_uri": "https://localhost:8080/"
        },
        "id": "owOkUKapCkVg",
        "outputId": "d562d820-3702-434d-84e0-7eca72a2da13"
      },
      "outputs": [
        {
          "name": "stdout",
          "output_type": "stream",
          "text": [
            "['ain', 'ain']\n"
          ]
        }
      ],
      "source": [
        "# 3. re.findall(pattern, string)\n",
        "# Returns ALL non-overlapping matches as a list\n",
        "text = \"The rain in Spain\"\n",
        "result = re.findall(r'ain', text)  # Returns ['ain', 'ain']\n",
        "print(result)"
      ]
    },
    {
      "cell_type": "code",
      "execution_count": 7,
      "metadata": {
        "colab": {
          "base_uri": "https://localhost:8080/"
        },
        "id": "09yHTPgzCoeY",
        "outputId": "32ccb1be-0af3-40cb-8c41-69251dcee2ec"
      },
      "outputs": [
        {
          "name": "stdout",
          "output_type": "stream",
          "text": [
            "Found at position: 5-8\n",
            "Found at position: 14-17\n"
          ]
        }
      ],
      "source": [
        "# 4. re.finditer(pattern, string)\n",
        "# Returns an iterator of match objects\n",
        "text = \"The rain in Spain\"\n",
        "for match in re.finditer(r'ain', text):\n",
        "    print(f\"Found at position: {match.start()}-{match.end()}\")"
      ]
    },
    {
      "cell_type": "code",
      "execution_count": 8,
      "metadata": {
        "colab": {
          "base_uri": "https://localhost:8080/"
        },
        "id": "x7thJZZNCsij",
        "outputId": "91006fe7-7edf-4208-f149-98c45880a249"
      },
      "outputs": [
        {
          "name": "stdout",
          "output_type": "stream",
          "text": [
            "I love dogs\n"
          ]
        }
      ],
      "source": [
        "# 5. re.sub(pattern, repl, string)\n",
        "# Substitutes matches with replacement text\n",
        "text = \"I love cats\"\n",
        "result = re.sub(r'cats', 'dogs', text)  # Returns \"I love dogs\"\n",
        "print(result)\n"
      ]
    },
    {
      "cell_type": "code",
      "execution_count": 9,
      "metadata": {
        "colab": {
          "base_uri": "https://localhost:8080/"
        },
        "id": "VC7ybZFVCwhc",
        "outputId": "5af1453a-c619-4ae9-e603-354fbf931630"
      },
      "outputs": [
        {
          "name": "stdout",
          "output_type": "stream",
          "text": [
            "['apple', 'banana', 'orange', 'grape']\n"
          ]
        }
      ],
      "source": [
        "# 6. re.split(pattern, string)\n",
        "# Splits string by pattern\n",
        "text = \"apple,banana;orange:grape\"\n",
        "result = re.split(r'[,;:]', text)  # Returns ['apple', 'banana', 'orange', 'grape']\n",
        "print(result)"
      ]
    },
    {
      "cell_type": "code",
      "execution_count": 10,
      "metadata": {
        "id": "MzfhGNDbC0Rz"
      },
      "outputs": [],
      "source": [
        "# Example Patterns:\n",
        "\n",
        "# 1. Email pattern\n",
        "email_pattern = r'\\b[A-Za-z0-9._%+-]+@[A-Za-z0-9.-]+\\.[A-Z|a-z]{2,}\\b'\n",
        "\n",
        "# 2. Phone number pattern (US format)\n",
        "phone_pattern = r'\\b\\d{3}[-.]?\\d{3}[-.]?\\d{4}\\b'\n",
        "\n",
        "# 3. URL pattern\n",
        "url_pattern = r'https?://(?:[\\w-]+\\.)+[\\w-]+(?:/[\\w-./?%&=]*)?'\n",
        "\n",
        "# 4. Date pattern (MM/DD/YYYY)\n",
        "date_pattern = r'\\b\\d{2}/\\d{2}/\\d{4}\\b'\n",
        "\n",
        "# Flags (can be combined with |):\n",
        "# re.IGNORECASE or re.I - Case-insensitive matching\n",
        "# re.MULTILINE or re.M - Multi-line matching\n",
        "# re.DOTALL or re.S - Dot matches any char, including newline\n",
        "# re.VERBOSE or re.X - Allow comments and whitespace\n"
      ]
    },
    {
      "cell_type": "code",
      "execution_count": 11,
      "metadata": {
        "colab": {
          "base_uri": "https://localhost:8080/"
        },
        "id": "bV2yBVkfC8jO",
        "outputId": "f9097631-7040-467b-b35c-412e4114682f"
      },
      "outputs": [
        {
          "name": "stdout",
          "output_type": "stream",
          "text": [
            "['Python']\n"
          ]
        }
      ],
      "source": [
        "# Example with flags:\n",
        "text = \"Python\\nJAVA\\nC++\"\n",
        "result = re.findall(r'python', text, re.IGNORECASE)  # Matches 'Python'\n",
        "print(result)\n"
      ]
    },
    {
      "cell_type": "code",
      "execution_count": 12,
      "metadata": {
        "colab": {
          "base_uri": "https://localhost:8080/"
        },
        "id": "luO3kAgMDEUs",
        "outputId": "5dbe4485-3280-483e-ea8f-3fcb91275ed1"
      },
      "outputs": [
        {
          "name": "stdout",
          "output_type": "stream",
          "text": [
            "[('John', 'Doe'), ('Jane', 'Doe')]\n"
          ]
        }
      ],
      "source": [
        "# Grouping with ()\n",
        "text = \"John Doe, Jane Doe\"\n",
        "pattern = r'(\\w+)\\s+(\\w+)'\n",
        "matches = re.findall(pattern, text)  # Returns [('John', 'Doe'), ('Jane', 'Doe')]\n",
        "print(matches)"
      ]
    },
    {
      "cell_type": "code",
      "execution_count": 13,
      "metadata": {
        "colab": {
          "base_uri": "https://localhost:8080/"
        },
        "id": "UsOfrNGiDIEx",
        "outputId": "24ab8a2f-7a2f-4303-acaa-2ab6f56ff8e1"
      },
      "outputs": [
        {
          "name": "stdout",
          "output_type": "stream",
          "text": [
            "John\n",
            "Doe\n"
          ]
        }
      ],
      "source": [
        "# Named Groups (?P<name>...)\n",
        "pattern = r'(?P<first>\\w+)\\s+(?P<last>\\w+)'\n",
        "match = re.search(pattern, \"John Doe\")\n",
        "if match:\n",
        "    print(match.group('first'))  # Returns 'John'\n",
        "    print(match.group('last'))   # Returns 'Doe'"
      ]
    },
    {
      "cell_type": "markdown",
      "metadata": {
        "id": "fci4oC53rwNu"
      },
      "source": [
        "###Step 3: Sample Text Data\n",
        "\n",
        "Let's define some sample text data to work with."
      ]
    },
    {
      "cell_type": "code",
      "execution_count": 14,
      "metadata": {
        "id": "a_s88KTyEDoA"
      },
      "outputs": [],
      "source": [
        "import spacy\n",
        "from bs4 import BeautifulSoup\n",
        "\n",
        "# Load SpaCy model\n",
        "nlp = spacy.load('en_core_web_sm')"
      ]
    },
    {
      "cell_type": "code",
      "execution_count": 15,
      "metadata": {
        "id": "ScLBl6TlrzeF"
      },
      "outputs": [],
      "source": [
        "sample_text = \"\"\"\n",
        "    SpaCy is an open-source software library for advanced natural language processing,\n",
        "    written in the programming languages Python and Cython. SpaCy is designed specifically for production use\n",
        "    and helps you build applications that process and understand large volumes of text. It can be used to build\n",
        "    information extraction or natural language understanding systems, or to pre-process text for deep learning.\n",
        "\"\"\""
      ]
    },
    {
      "cell_type": "markdown",
      "metadata": {
        "id": "lRhxJcn7r2Ef"
      },
      "source": [
        "###Step 4: Data Cleaning Function\n",
        "\n",
        "Create a function to clean the text data. This function will remove unwanted characters, convert text to lowercase, and strip leading/trailing whitespace."
      ]
    },
    {
      "cell_type": "code",
      "execution_count": 16,
      "metadata": {
        "colab": {
          "base_uri": "https://localhost:8080/"
        },
        "id": "4myNE9gWs6Df",
        "outputId": "ce826f6c-b9a6-4202-fb1a-700afa420017"
      },
      "outputs": [
        {
          "name": "stdout",
          "output_type": "stream",
          "text": [
            "spacy is an opensource software library for advanced natural language processing\n",
            "    written in the programming languages python and cython spacy is designed specifically for production use\n",
            "    and helps you build applications that process and understand large volumes of text it can be used to build\n",
            "    information extraction or natural language understanding systems or to preprocess text for deep learning\n"
          ]
        }
      ],
      "source": [
        "\n",
        "def clean_text(text):\n",
        "    # Remove special characters and digits\n",
        "    text = re.sub(r'[^A-Za-z\\s]', '', text)\n",
        "    # Convert text to lowercase\n",
        "    text = text.lower()\n",
        "    # Remove leading and trailing whitespace\n",
        "    text = text.strip()\n",
        "    return text\n",
        "\n",
        "# Clean the sample text\n",
        "cleaned_text = clean_text(sample_text)\n",
        "print(cleaned_text)\n"
      ]
    },
    {
      "cell_type": "markdown",
      "metadata": {
        "id": "U71oa0_etCxo"
      },
      "source": [
        "###Step 5: Tokenization and Preprocessing\n",
        "\n",
        "Define a function for tokenization and preprocessing. This function will tokenize the text, remove stop words, and perform lemmatization."
      ]
    },
    {
      "cell_type": "code",
      "execution_count": 17,
      "metadata": {
        "colab": {
          "base_uri": "https://localhost:8080/"
        },
        "id": "G7NnP7E2s8tw",
        "outputId": "49567227-03b8-4434-bbd6-62402fedb0e9"
      },
      "outputs": [
        {
          "name": "stdout",
          "output_type": "stream",
          "text": [
            "['spacy', 'opensource', 'software', 'library', 'advanced', 'natural', 'language', 'processing', '\\n    ', 'write', 'programming', 'language', 'python', 'cython', 'spacy', 'design', 'specifically', 'production', 'use', '\\n    ', 'help', 'build', 'application', 'process', 'understand', 'large', 'volume', 'text', 'build', '\\n    ', 'information', 'extraction', 'natural', 'language', 'understanding', 'system', 'preprocess', 'text', 'deep', 'learning']\n"
          ]
        }
      ],
      "source": [
        "def preprocess_text(text):\n",
        "    # Process the text using SpaCy\n",
        "    doc = nlp(text)\n",
        "\n",
        "    # Tokenize, remove stop words and punctuation, and lemmatize\n",
        "    tokens = [token.lemma_ for token in doc if not token.is_stop and not token.is_punct]\n",
        "\n",
        "    return tokens\n",
        "\n",
        "# Preprocess the cleaned text\n",
        "tokens = preprocess_text(cleaned_text)\n",
        "print(tokens)\n"
      ]
    },
    {
      "cell_type": "code",
      "execution_count": null,
      "metadata": {
        "id": "7CQGvCqE8n3V"
      },
      "outputs": [],
      "source": []
    },
    {
      "cell_type": "markdown",
      "metadata": {
        "id": "9s-5tR9huqdS"
      },
      "source": [
        "###Step 6: Putting It All Together\n",
        "\n",
        "Combine the cleaning and preprocessing steps in a single workflow."
      ]
    },
    {
      "cell_type": "code",
      "execution_count": 18,
      "metadata": {
        "colab": {
          "base_uri": "https://localhost:8080/"
        },
        "id": "ClCj9gzNusd6",
        "outputId": "95092bb4-645e-4a8f-efd9-628732a92445"
      },
      "outputs": [
        {
          "name": "stdout",
          "output_type": "stream",
          "text": [
            "['spacy', 'opensource', 'software', 'library', 'advanced', 'natural', 'language', 'processing', '\\n    ', 'write', 'programming', 'language', 'python', 'cython', 'spacy', 'design', 'specifically', 'production', 'use', '\\n    ', 'help', 'build', 'application', 'process', 'understand', 'large', 'volume', 'text', 'build', '\\n    ', 'information', 'extraction', 'natural', 'language', 'understanding', 'system', 'preprocess', 'text', 'deep', 'learning']\n"
          ]
        }
      ],
      "source": [
        "def process_text(text):\n",
        "    # Step 1: Clean the text\n",
        "    cleaned_text = clean_text(text)\n",
        "\n",
        "    # Step 2: Tokenize and preprocess the text\n",
        "    cltokens = preprocess_text(cleaned_text)\n",
        "\n",
        "    return cltokens\n",
        "\n",
        "# Process the sample text\n",
        "tokens = process_text(sample_text)\n",
        "print(tokens)\n"
      ]
    },
    {
      "cell_type": "markdown",
      "metadata": {
        "id": "hlAoatThtPCr"
      },
      "source": [
        "##Complex Data Cleaning Function\n",
        "\n",
        "Create a function to handle the more complex text cleaning steps."
      ]
    },
    {
      "cell_type": "code",
      "execution_count": 19,
      "metadata": {
        "id": "UFKuhPMCilmO"
      },
      "outputs": [],
      "source": [
        "resume_text = \"\"\"\n",
        "    <p>John Doe</p>\n",
        "    <p>Experienced software engineer with a strong background in Python and machine learning. Worked at Google and Microsoft.</p>\n",
        "    <p>Education: B.Sc. in Computer Science from MIT.</p>\n",
        "    Contact: john.doe@example.com.\n",
        "\"\"\""
      ]
    },
    {
      "cell_type": "code",
      "execution_count": 20,
      "metadata": {
        "id": "Ct6I2AsawY59"
      },
      "outputs": [],
      "source": [
        "#function to preprocess the text\n",
        "def clean_text(text):\n",
        "    # Remove HTML tags\n",
        "    text = BeautifulSoup(text, \"html.parser\").get_text()\n",
        "\n",
        "    # Remove URLs\n",
        "    text = re.sub(r'http\\S+|www\\S+|https\\S+', '', text, flags=re.MULTILINE)\n",
        "\n",
        "    # Remove email addresses\n",
        "    text = re.sub(r'\\S+@\\S+', '', text)\n",
        "\n",
        "    # Remove special characters and digits\n",
        "    text = re.sub(r'[^A-Za-z\\s]', '', text)\n",
        "\n",
        "    # Convert text to lowercase\n",
        "    text = text.lower()\n",
        "\n",
        "    # Remove multiple spaces\n",
        "    text = re.sub(r'\\s+', ' ', text).strip()\n",
        "\n",
        "    return text\n",
        "\n"
      ]
    },
    {
      "cell_type": "code",
      "execution_count": 21,
      "metadata": {
        "colab": {
          "base_uri": "https://localhost:8080/"
        },
        "id": "_IAJzbAbjeWB",
        "outputId": "ce246e85-e08f-4f3e-9f56-36f772746cb6"
      },
      "outputs": [
        {
          "name": "stdout",
          "output_type": "stream",
          "text": [
            "john doe experienced software engineer with a strong background in python and machine learning worked at google and microsoft education bsc in computer science from mit contact\n"
          ]
        }
      ],
      "source": [
        "# Clean the sample text\n",
        "cleaned_text = clean_text(resume_text)\n",
        "print(cleaned_text)"
      ]
    },
    {
      "cell_type": "markdown",
      "metadata": {
        "id": "aKL2MT-Lt4Cj"
      },
      "source": [
        "### Tokenisation"
      ]
    },
    {
      "cell_type": "code",
      "execution_count": 22,
      "metadata": {
        "colab": {
          "base_uri": "https://localhost:8080/"
        },
        "id": "lG1e_Hf9wogK",
        "outputId": "ad078aed-9acb-4f98-a1cf-85c0815890fd"
      },
      "outputs": [
        {
          "name": "stdout",
          "output_type": "stream",
          "text": [
            "['john', 'doe', 'experience', 'software', 'engineer', 'strong', 'background', 'python', 'machine', 'learning', 'work', 'google', 'microsoft', 'education', 'bsc', 'computer', 'science', 'mit', 'contact']\n"
          ]
        }
      ],
      "source": [
        "# tokenise the sample text\n",
        "processed_tokens = process_text(resume_text)\n",
        "print(processed_tokens)"
      ]
    },
    {
      "cell_type": "markdown",
      "metadata": {
        "id": "a1j7Oo23tygI"
      },
      "source": [
        "### Named Entity Recognition (NER)\n",
        "NER is a sub-task of information extraction in NLP that seeks to locate and classify named entities mentioned in unstructured text into predefined categories such as:\n",
        "Person names,\n",
        "Organizations,  Locations, Dates, Quantities,  Monetary values,  Percentages\n"
      ]
    },
    {
      "cell_type": "code",
      "execution_count": 23,
      "metadata": {
        "id": "vvmtOCOgkNJQ"
      },
      "outputs": [],
      "source": [
        "# Named Entity Recognition (NER)\n",
        "def named_entity_recognition(text):\n",
        "    doc = nlp(text)\n",
        "    entities = [(entity.text, entity.label_) for entity in doc.ents]\n",
        "    return entities"
      ]
    },
    {
      "cell_type": "code",
      "execution_count": 24,
      "metadata": {
        "colab": {
          "base_uri": "https://localhost:8080/"
        },
        "id": "xGIkehaawxq9",
        "outputId": "d858cd02-95ae-4967-c98e-19001c449b0d"
      },
      "outputs": [
        {
          "name": "stdout",
          "output_type": "stream",
          "text": [
            "Named Entities: [('john', 'PERSON'), ('google', 'ORG'), ('microsoft', 'ORG'), ('bsc', 'ORG')]\n"
          ]
        }
      ],
      "source": [
        "# Named Entity Recognition (NER)\n",
        "entities = named_entity_recognition(cleaned_text)\n",
        "print(\"Named Entities:\", entities)\n"
      ]
    },
    {
      "cell_type": "markdown",
      "metadata": {
        "id": "8bErcORsvQtE"
      },
      "source": [
        "###Part-of-Speech Tagging (POS Tagging)\n",
        "Part-of-Speech Tagging  is a fundamental task in NLP that involves assigning a part of speech (such as noun, verb, adjective, etc.) to each word in a given text. This process is crucial for understanding the grammatical structure and syntactic relationships within sentences."
      ]
    },
    {
      "cell_type": "code",
      "execution_count": 25,
      "metadata": {
        "id": "3pP5uVjcurIW"
      },
      "outputs": [],
      "source": [
        "# Part-of-Speech Tagging\n",
        "def pos_tagging(text):\n",
        "    doc = nlp(text)\n",
        "    pos_tags = [(token.text, token.pos_) for token in doc]\n",
        "    return pos_tags"
      ]
    },
    {
      "cell_type": "code",
      "execution_count": 26,
      "metadata": {
        "colab": {
          "base_uri": "https://localhost:8080/"
        },
        "id": "nGYsuMShw1Ks",
        "outputId": "94e2bd92-9c57-4786-c419-0e2284627eb5"
      },
      "outputs": [
        {
          "name": "stdout",
          "output_type": "stream",
          "text": [
            "POS Tags: [('john', 'PROPN'), ('doe', 'PROPN'), ('experienced', 'VERB'), ('software', 'NOUN'), ('engineer', 'NOUN'), ('with', 'ADP'), ('a', 'DET'), ('strong', 'ADJ'), ('background', 'NOUN'), ('in', 'ADP'), ('python', 'NOUN'), ('and', 'CCONJ'), ('machine', 'NOUN'), ('learning', 'NOUN'), ('worked', 'VERB'), ('at', 'ADP'), ('google', 'PROPN'), ('and', 'CCONJ'), ('microsoft', 'PROPN'), ('education', 'PROPN'), ('bsc', 'PROPN'), ('in', 'ADP'), ('computer', 'NOUN'), ('science', 'NOUN'), ('from', 'ADP'), ('mit', 'NOUN'), ('contact', 'NOUN')]\n"
          ]
        }
      ],
      "source": [
        "# Part-of-Speech Tagging\n",
        "pos_tags = pos_tagging(cleaned_text)\n",
        "print(\"POS Tags:\", pos_tags)"
      ]
    },
    {
      "cell_type": "markdown",
      "metadata": {
        "id": "4KiFg1t4x219"
      },
      "source": [
        "### Dependency Parsing\n",
        "Dependency parsing is a process in natural language processing (NLP) that involves analyzing the grammatical structure of a sentence by establishing relationships between \"head\" words and words that modify those heads (known as \"dependents\"). In this framework, each word in a sentence is connected to its dependents via directed links, forming a dependency tree."
      ]
    },
    {
      "cell_type": "code",
      "execution_count": 27,
      "metadata": {
        "id": "HFiIPQuMuzMR"
      },
      "outputs": [],
      "source": [
        "# Dependency Parsing\n",
        "def dependency_parsing(text):\n",
        "    doc = nlp(text)\n",
        "    dependencies = [(token.text, token.dep_, token.head.text) for token in doc]\n",
        "    return dependencies"
      ]
    },
    {
      "cell_type": "code",
      "execution_count": 28,
      "metadata": {
        "colab": {
          "base_uri": "https://localhost:8080/"
        },
        "id": "dcckoHcyj93Y",
        "outputId": "28815ecc-59d7-4741-c845-4c217e3c1f87"
      },
      "outputs": [
        {
          "name": "stdout",
          "output_type": "stream",
          "text": [
            "Dependencies: [('john', 'compound', 'doe'), ('doe', 'nsubj', 'experienced'), ('experienced', 'ROOT', 'experienced'), ('software', 'compound', 'engineer'), ('engineer', 'dobj', 'experienced'), ('with', 'prep', 'experienced'), ('a', 'det', 'background'), ('strong', 'amod', 'background'), ('background', 'pobj', 'with'), ('in', 'prep', 'background'), ('python', 'pobj', 'in'), ('and', 'cc', 'background'), ('machine', 'compound', 'learning'), ('learning', 'nsubj', 'worked'), ('worked', 'conj', 'experienced'), ('at', 'prep', 'worked'), ('google', 'pobj', 'at'), ('and', 'cc', 'google'), ('microsoft', 'compound', 'education'), ('education', 'compound', 'bsc'), ('bsc', 'conj', 'google'), ('in', 'prep', 'worked'), ('computer', 'compound', 'science'), ('science', 'pobj', 'in'), ('from', 'prep', 'worked'), ('mit', 'compound', 'contact'), ('contact', 'pobj', 'from')]\n"
          ]
        }
      ],
      "source": [
        "# Dependency Parsing\n",
        "dependencies = dependency_parsing(cleaned_text)\n",
        "print(\"Dependencies:\", dependencies)"
      ]
    },
    {
      "cell_type": "markdown",
      "metadata": {
        "id": "y2CwD7H1w8cB"
      },
      "source": [
        "#### Visualizing the dependency parse\n",
        "\n",
        "The dependency visualizer, **dep**, shows part-of-speech tags and syntactic dependencies.\n"
      ]
    },
    {
      "cell_type": "code",
      "execution_count": 29,
      "metadata": {
        "colab": {
          "base_uri": "https://localhost:8080/",
          "height": 528
        },
        "id": "8hD7XGvWwPY_",
        "outputId": "9919fab0-94d7-4fef-fe89-05c6c3ee3e43"
      },
      "outputs": [
        {
          "data": {
            "text/html": [
              "<span class=\"tex2jax_ignore\"><svg xmlns=\"http://www.w3.org/2000/svg\" xmlns:xlink=\"http://www.w3.org/1999/xlink\" xml:lang=\"en\" id=\"bca51f77d32f40348acf822457f1a968-0\" class=\"displacy\" width=\"4775\" height=\"487.0\" direction=\"ltr\" style=\"max-width: none; height: 487.0px; color: #000000; background: #ffffff; font-family: Arial; direction: ltr\">\n",
              "<text class=\"displacy-token\" fill=\"currentColor\" text-anchor=\"middle\" y=\"397.0\">\n",
              "    <tspan class=\"displacy-word\" fill=\"currentColor\" x=\"50\">john</tspan>\n",
              "    <tspan class=\"displacy-tag\" dy=\"2em\" fill=\"currentColor\" x=\"50\">PROPN</tspan>\n",
              "</text>\n",
              "\n",
              "<text class=\"displacy-token\" fill=\"currentColor\" text-anchor=\"middle\" y=\"397.0\">\n",
              "    <tspan class=\"displacy-word\" fill=\"currentColor\" x=\"225\">doe</tspan>\n",
              "    <tspan class=\"displacy-tag\" dy=\"2em\" fill=\"currentColor\" x=\"225\">PROPN</tspan>\n",
              "</text>\n",
              "\n",
              "<text class=\"displacy-token\" fill=\"currentColor\" text-anchor=\"middle\" y=\"397.0\">\n",
              "    <tspan class=\"displacy-word\" fill=\"currentColor\" x=\"400\">experienced</tspan>\n",
              "    <tspan class=\"displacy-tag\" dy=\"2em\" fill=\"currentColor\" x=\"400\">VERB</tspan>\n",
              "</text>\n",
              "\n",
              "<text class=\"displacy-token\" fill=\"currentColor\" text-anchor=\"middle\" y=\"397.0\">\n",
              "    <tspan class=\"displacy-word\" fill=\"currentColor\" x=\"575\">software</tspan>\n",
              "    <tspan class=\"displacy-tag\" dy=\"2em\" fill=\"currentColor\" x=\"575\">NOUN</tspan>\n",
              "</text>\n",
              "\n",
              "<text class=\"displacy-token\" fill=\"currentColor\" text-anchor=\"middle\" y=\"397.0\">\n",
              "    <tspan class=\"displacy-word\" fill=\"currentColor\" x=\"750\">engineer</tspan>\n",
              "    <tspan class=\"displacy-tag\" dy=\"2em\" fill=\"currentColor\" x=\"750\">NOUN</tspan>\n",
              "</text>\n",
              "\n",
              "<text class=\"displacy-token\" fill=\"currentColor\" text-anchor=\"middle\" y=\"397.0\">\n",
              "    <tspan class=\"displacy-word\" fill=\"currentColor\" x=\"925\">with</tspan>\n",
              "    <tspan class=\"displacy-tag\" dy=\"2em\" fill=\"currentColor\" x=\"925\">ADP</tspan>\n",
              "</text>\n",
              "\n",
              "<text class=\"displacy-token\" fill=\"currentColor\" text-anchor=\"middle\" y=\"397.0\">\n",
              "    <tspan class=\"displacy-word\" fill=\"currentColor\" x=\"1100\">a</tspan>\n",
              "    <tspan class=\"displacy-tag\" dy=\"2em\" fill=\"currentColor\" x=\"1100\">DET</tspan>\n",
              "</text>\n",
              "\n",
              "<text class=\"displacy-token\" fill=\"currentColor\" text-anchor=\"middle\" y=\"397.0\">\n",
              "    <tspan class=\"displacy-word\" fill=\"currentColor\" x=\"1275\">strong</tspan>\n",
              "    <tspan class=\"displacy-tag\" dy=\"2em\" fill=\"currentColor\" x=\"1275\">ADJ</tspan>\n",
              "</text>\n",
              "\n",
              "<text class=\"displacy-token\" fill=\"currentColor\" text-anchor=\"middle\" y=\"397.0\">\n",
              "    <tspan class=\"displacy-word\" fill=\"currentColor\" x=\"1450\">background</tspan>\n",
              "    <tspan class=\"displacy-tag\" dy=\"2em\" fill=\"currentColor\" x=\"1450\">NOUN</tspan>\n",
              "</text>\n",
              "\n",
              "<text class=\"displacy-token\" fill=\"currentColor\" text-anchor=\"middle\" y=\"397.0\">\n",
              "    <tspan class=\"displacy-word\" fill=\"currentColor\" x=\"1625\">in</tspan>\n",
              "    <tspan class=\"displacy-tag\" dy=\"2em\" fill=\"currentColor\" x=\"1625\">ADP</tspan>\n",
              "</text>\n",
              "\n",
              "<text class=\"displacy-token\" fill=\"currentColor\" text-anchor=\"middle\" y=\"397.0\">\n",
              "    <tspan class=\"displacy-word\" fill=\"currentColor\" x=\"1800\">python</tspan>\n",
              "    <tspan class=\"displacy-tag\" dy=\"2em\" fill=\"currentColor\" x=\"1800\">NOUN</tspan>\n",
              "</text>\n",
              "\n",
              "<text class=\"displacy-token\" fill=\"currentColor\" text-anchor=\"middle\" y=\"397.0\">\n",
              "    <tspan class=\"displacy-word\" fill=\"currentColor\" x=\"1975\">and</tspan>\n",
              "    <tspan class=\"displacy-tag\" dy=\"2em\" fill=\"currentColor\" x=\"1975\">CCONJ</tspan>\n",
              "</text>\n",
              "\n",
              "<text class=\"displacy-token\" fill=\"currentColor\" text-anchor=\"middle\" y=\"397.0\">\n",
              "    <tspan class=\"displacy-word\" fill=\"currentColor\" x=\"2150\">machine</tspan>\n",
              "    <tspan class=\"displacy-tag\" dy=\"2em\" fill=\"currentColor\" x=\"2150\">NOUN</tspan>\n",
              "</text>\n",
              "\n",
              "<text class=\"displacy-token\" fill=\"currentColor\" text-anchor=\"middle\" y=\"397.0\">\n",
              "    <tspan class=\"displacy-word\" fill=\"currentColor\" x=\"2325\">learning</tspan>\n",
              "    <tspan class=\"displacy-tag\" dy=\"2em\" fill=\"currentColor\" x=\"2325\">NOUN</tspan>\n",
              "</text>\n",
              "\n",
              "<text class=\"displacy-token\" fill=\"currentColor\" text-anchor=\"middle\" y=\"397.0\">\n",
              "    <tspan class=\"displacy-word\" fill=\"currentColor\" x=\"2500\">worked</tspan>\n",
              "    <tspan class=\"displacy-tag\" dy=\"2em\" fill=\"currentColor\" x=\"2500\">VERB</tspan>\n",
              "</text>\n",
              "\n",
              "<text class=\"displacy-token\" fill=\"currentColor\" text-anchor=\"middle\" y=\"397.0\">\n",
              "    <tspan class=\"displacy-word\" fill=\"currentColor\" x=\"2675\">at</tspan>\n",
              "    <tspan class=\"displacy-tag\" dy=\"2em\" fill=\"currentColor\" x=\"2675\">ADP</tspan>\n",
              "</text>\n",
              "\n",
              "<text class=\"displacy-token\" fill=\"currentColor\" text-anchor=\"middle\" y=\"397.0\">\n",
              "    <tspan class=\"displacy-word\" fill=\"currentColor\" x=\"2850\">google</tspan>\n",
              "    <tspan class=\"displacy-tag\" dy=\"2em\" fill=\"currentColor\" x=\"2850\">PROPN</tspan>\n",
              "</text>\n",
              "\n",
              "<text class=\"displacy-token\" fill=\"currentColor\" text-anchor=\"middle\" y=\"397.0\">\n",
              "    <tspan class=\"displacy-word\" fill=\"currentColor\" x=\"3025\">and</tspan>\n",
              "    <tspan class=\"displacy-tag\" dy=\"2em\" fill=\"currentColor\" x=\"3025\">CCONJ</tspan>\n",
              "</text>\n",
              "\n",
              "<text class=\"displacy-token\" fill=\"currentColor\" text-anchor=\"middle\" y=\"397.0\">\n",
              "    <tspan class=\"displacy-word\" fill=\"currentColor\" x=\"3200\">microsoft</tspan>\n",
              "    <tspan class=\"displacy-tag\" dy=\"2em\" fill=\"currentColor\" x=\"3200\">PROPN</tspan>\n",
              "</text>\n",
              "\n",
              "<text class=\"displacy-token\" fill=\"currentColor\" text-anchor=\"middle\" y=\"397.0\">\n",
              "    <tspan class=\"displacy-word\" fill=\"currentColor\" x=\"3375\">education</tspan>\n",
              "    <tspan class=\"displacy-tag\" dy=\"2em\" fill=\"currentColor\" x=\"3375\">PROPN</tspan>\n",
              "</text>\n",
              "\n",
              "<text class=\"displacy-token\" fill=\"currentColor\" text-anchor=\"middle\" y=\"397.0\">\n",
              "    <tspan class=\"displacy-word\" fill=\"currentColor\" x=\"3550\">bsc</tspan>\n",
              "    <tspan class=\"displacy-tag\" dy=\"2em\" fill=\"currentColor\" x=\"3550\">PROPN</tspan>\n",
              "</text>\n",
              "\n",
              "<text class=\"displacy-token\" fill=\"currentColor\" text-anchor=\"middle\" y=\"397.0\">\n",
              "    <tspan class=\"displacy-word\" fill=\"currentColor\" x=\"3725\">in</tspan>\n",
              "    <tspan class=\"displacy-tag\" dy=\"2em\" fill=\"currentColor\" x=\"3725\">ADP</tspan>\n",
              "</text>\n",
              "\n",
              "<text class=\"displacy-token\" fill=\"currentColor\" text-anchor=\"middle\" y=\"397.0\">\n",
              "    <tspan class=\"displacy-word\" fill=\"currentColor\" x=\"3900\">computer</tspan>\n",
              "    <tspan class=\"displacy-tag\" dy=\"2em\" fill=\"currentColor\" x=\"3900\">NOUN</tspan>\n",
              "</text>\n",
              "\n",
              "<text class=\"displacy-token\" fill=\"currentColor\" text-anchor=\"middle\" y=\"397.0\">\n",
              "    <tspan class=\"displacy-word\" fill=\"currentColor\" x=\"4075\">science</tspan>\n",
              "    <tspan class=\"displacy-tag\" dy=\"2em\" fill=\"currentColor\" x=\"4075\">NOUN</tspan>\n",
              "</text>\n",
              "\n",
              "<text class=\"displacy-token\" fill=\"currentColor\" text-anchor=\"middle\" y=\"397.0\">\n",
              "    <tspan class=\"displacy-word\" fill=\"currentColor\" x=\"4250\">from</tspan>\n",
              "    <tspan class=\"displacy-tag\" dy=\"2em\" fill=\"currentColor\" x=\"4250\">ADP</tspan>\n",
              "</text>\n",
              "\n",
              "<text class=\"displacy-token\" fill=\"currentColor\" text-anchor=\"middle\" y=\"397.0\">\n",
              "    <tspan class=\"displacy-word\" fill=\"currentColor\" x=\"4425\">mit</tspan>\n",
              "    <tspan class=\"displacy-tag\" dy=\"2em\" fill=\"currentColor\" x=\"4425\">NOUN</tspan>\n",
              "</text>\n",
              "\n",
              "<text class=\"displacy-token\" fill=\"currentColor\" text-anchor=\"middle\" y=\"397.0\">\n",
              "    <tspan class=\"displacy-word\" fill=\"currentColor\" x=\"4600\">contact</tspan>\n",
              "    <tspan class=\"displacy-tag\" dy=\"2em\" fill=\"currentColor\" x=\"4600\">NOUN</tspan>\n",
              "</text>\n",
              "\n",
              "<g class=\"displacy-arrow\">\n",
              "    <path class=\"displacy-arc\" id=\"arrow-bca51f77d32f40348acf822457f1a968-0-0\" stroke-width=\"2px\" d=\"M70,352.0 C70,264.5 210.0,264.5 210.0,352.0\" fill=\"none\" stroke=\"currentColor\"/>\n",
              "    <text dy=\"1.25em\" style=\"font-size: 0.8em; letter-spacing: 1px\">\n",
              "        <textPath xlink:href=\"#arrow-bca51f77d32f40348acf822457f1a968-0-0\" class=\"displacy-label\" startOffset=\"50%\" side=\"left\" fill=\"currentColor\" text-anchor=\"middle\">compound</textPath>\n",
              "    </text>\n",
              "    <path class=\"displacy-arrowhead\" d=\"M70,354.0 L62,342.0 78,342.0\" fill=\"currentColor\"/>\n",
              "</g>\n",
              "\n",
              "<g class=\"displacy-arrow\">\n",
              "    <path class=\"displacy-arc\" id=\"arrow-bca51f77d32f40348acf822457f1a968-0-1\" stroke-width=\"2px\" d=\"M245,352.0 C245,264.5 385.0,264.5 385.0,352.0\" fill=\"none\" stroke=\"currentColor\"/>\n",
              "    <text dy=\"1.25em\" style=\"font-size: 0.8em; letter-spacing: 1px\">\n",
              "        <textPath xlink:href=\"#arrow-bca51f77d32f40348acf822457f1a968-0-1\" class=\"displacy-label\" startOffset=\"50%\" side=\"left\" fill=\"currentColor\" text-anchor=\"middle\">nsubj</textPath>\n",
              "    </text>\n",
              "    <path class=\"displacy-arrowhead\" d=\"M245,354.0 L237,342.0 253,342.0\" fill=\"currentColor\"/>\n",
              "</g>\n",
              "\n",
              "<g class=\"displacy-arrow\">\n",
              "    <path class=\"displacy-arc\" id=\"arrow-bca51f77d32f40348acf822457f1a968-0-2\" stroke-width=\"2px\" d=\"M595,352.0 C595,264.5 735.0,264.5 735.0,352.0\" fill=\"none\" stroke=\"currentColor\"/>\n",
              "    <text dy=\"1.25em\" style=\"font-size: 0.8em; letter-spacing: 1px\">\n",
              "        <textPath xlink:href=\"#arrow-bca51f77d32f40348acf822457f1a968-0-2\" class=\"displacy-label\" startOffset=\"50%\" side=\"left\" fill=\"currentColor\" text-anchor=\"middle\">compound</textPath>\n",
              "    </text>\n",
              "    <path class=\"displacy-arrowhead\" d=\"M595,354.0 L587,342.0 603,342.0\" fill=\"currentColor\"/>\n",
              "</g>\n",
              "\n",
              "<g class=\"displacy-arrow\">\n",
              "    <path class=\"displacy-arc\" id=\"arrow-bca51f77d32f40348acf822457f1a968-0-3\" stroke-width=\"2px\" d=\"M420,352.0 C420,177.0 740.0,177.0 740.0,352.0\" fill=\"none\" stroke=\"currentColor\"/>\n",
              "    <text dy=\"1.25em\" style=\"font-size: 0.8em; letter-spacing: 1px\">\n",
              "        <textPath xlink:href=\"#arrow-bca51f77d32f40348acf822457f1a968-0-3\" class=\"displacy-label\" startOffset=\"50%\" side=\"left\" fill=\"currentColor\" text-anchor=\"middle\">dobj</textPath>\n",
              "    </text>\n",
              "    <path class=\"displacy-arrowhead\" d=\"M740.0,354.0 L748.0,342.0 732.0,342.0\" fill=\"currentColor\"/>\n",
              "</g>\n",
              "\n",
              "<g class=\"displacy-arrow\">\n",
              "    <path class=\"displacy-arc\" id=\"arrow-bca51f77d32f40348acf822457f1a968-0-4\" stroke-width=\"2px\" d=\"M420,352.0 C420,89.5 920.0,89.5 920.0,352.0\" fill=\"none\" stroke=\"currentColor\"/>\n",
              "    <text dy=\"1.25em\" style=\"font-size: 0.8em; letter-spacing: 1px\">\n",
              "        <textPath xlink:href=\"#arrow-bca51f77d32f40348acf822457f1a968-0-4\" class=\"displacy-label\" startOffset=\"50%\" side=\"left\" fill=\"currentColor\" text-anchor=\"middle\">prep</textPath>\n",
              "    </text>\n",
              "    <path class=\"displacy-arrowhead\" d=\"M920.0,354.0 L928.0,342.0 912.0,342.0\" fill=\"currentColor\"/>\n",
              "</g>\n",
              "\n",
              "<g class=\"displacy-arrow\">\n",
              "    <path class=\"displacy-arc\" id=\"arrow-bca51f77d32f40348acf822457f1a968-0-5\" stroke-width=\"2px\" d=\"M1120,352.0 C1120,177.0 1440.0,177.0 1440.0,352.0\" fill=\"none\" stroke=\"currentColor\"/>\n",
              "    <text dy=\"1.25em\" style=\"font-size: 0.8em; letter-spacing: 1px\">\n",
              "        <textPath xlink:href=\"#arrow-bca51f77d32f40348acf822457f1a968-0-5\" class=\"displacy-label\" startOffset=\"50%\" side=\"left\" fill=\"currentColor\" text-anchor=\"middle\">det</textPath>\n",
              "    </text>\n",
              "    <path class=\"displacy-arrowhead\" d=\"M1120,354.0 L1112,342.0 1128,342.0\" fill=\"currentColor\"/>\n",
              "</g>\n",
              "\n",
              "<g class=\"displacy-arrow\">\n",
              "    <path class=\"displacy-arc\" id=\"arrow-bca51f77d32f40348acf822457f1a968-0-6\" stroke-width=\"2px\" d=\"M1295,352.0 C1295,264.5 1435.0,264.5 1435.0,352.0\" fill=\"none\" stroke=\"currentColor\"/>\n",
              "    <text dy=\"1.25em\" style=\"font-size: 0.8em; letter-spacing: 1px\">\n",
              "        <textPath xlink:href=\"#arrow-bca51f77d32f40348acf822457f1a968-0-6\" class=\"displacy-label\" startOffset=\"50%\" side=\"left\" fill=\"currentColor\" text-anchor=\"middle\">amod</textPath>\n",
              "    </text>\n",
              "    <path class=\"displacy-arrowhead\" d=\"M1295,354.0 L1287,342.0 1303,342.0\" fill=\"currentColor\"/>\n",
              "</g>\n",
              "\n",
              "<g class=\"displacy-arrow\">\n",
              "    <path class=\"displacy-arc\" id=\"arrow-bca51f77d32f40348acf822457f1a968-0-7\" stroke-width=\"2px\" d=\"M945,352.0 C945,89.5 1445.0,89.5 1445.0,352.0\" fill=\"none\" stroke=\"currentColor\"/>\n",
              "    <text dy=\"1.25em\" style=\"font-size: 0.8em; letter-spacing: 1px\">\n",
              "        <textPath xlink:href=\"#arrow-bca51f77d32f40348acf822457f1a968-0-7\" class=\"displacy-label\" startOffset=\"50%\" side=\"left\" fill=\"currentColor\" text-anchor=\"middle\">pobj</textPath>\n",
              "    </text>\n",
              "    <path class=\"displacy-arrowhead\" d=\"M1445.0,354.0 L1453.0,342.0 1437.0,342.0\" fill=\"currentColor\"/>\n",
              "</g>\n",
              "\n",
              "<g class=\"displacy-arrow\">\n",
              "    <path class=\"displacy-arc\" id=\"arrow-bca51f77d32f40348acf822457f1a968-0-8\" stroke-width=\"2px\" d=\"M1470,352.0 C1470,264.5 1610.0,264.5 1610.0,352.0\" fill=\"none\" stroke=\"currentColor\"/>\n",
              "    <text dy=\"1.25em\" style=\"font-size: 0.8em; letter-spacing: 1px\">\n",
              "        <textPath xlink:href=\"#arrow-bca51f77d32f40348acf822457f1a968-0-8\" class=\"displacy-label\" startOffset=\"50%\" side=\"left\" fill=\"currentColor\" text-anchor=\"middle\">prep</textPath>\n",
              "    </text>\n",
              "    <path class=\"displacy-arrowhead\" d=\"M1610.0,354.0 L1618.0,342.0 1602.0,342.0\" fill=\"currentColor\"/>\n",
              "</g>\n",
              "\n",
              "<g class=\"displacy-arrow\">\n",
              "    <path class=\"displacy-arc\" id=\"arrow-bca51f77d32f40348acf822457f1a968-0-9\" stroke-width=\"2px\" d=\"M1645,352.0 C1645,264.5 1785.0,264.5 1785.0,352.0\" fill=\"none\" stroke=\"currentColor\"/>\n",
              "    <text dy=\"1.25em\" style=\"font-size: 0.8em; letter-spacing: 1px\">\n",
              "        <textPath xlink:href=\"#arrow-bca51f77d32f40348acf822457f1a968-0-9\" class=\"displacy-label\" startOffset=\"50%\" side=\"left\" fill=\"currentColor\" text-anchor=\"middle\">pobj</textPath>\n",
              "    </text>\n",
              "    <path class=\"displacy-arrowhead\" d=\"M1785.0,354.0 L1793.0,342.0 1777.0,342.0\" fill=\"currentColor\"/>\n",
              "</g>\n",
              "\n",
              "<g class=\"displacy-arrow\">\n",
              "    <path class=\"displacy-arc\" id=\"arrow-bca51f77d32f40348acf822457f1a968-0-10\" stroke-width=\"2px\" d=\"M1470,352.0 C1470,177.0 1965.0,177.0 1965.0,352.0\" fill=\"none\" stroke=\"currentColor\"/>\n",
              "    <text dy=\"1.25em\" style=\"font-size: 0.8em; letter-spacing: 1px\">\n",
              "        <textPath xlink:href=\"#arrow-bca51f77d32f40348acf822457f1a968-0-10\" class=\"displacy-label\" startOffset=\"50%\" side=\"left\" fill=\"currentColor\" text-anchor=\"middle\">cc</textPath>\n",
              "    </text>\n",
              "    <path class=\"displacy-arrowhead\" d=\"M1965.0,354.0 L1973.0,342.0 1957.0,342.0\" fill=\"currentColor\"/>\n",
              "</g>\n",
              "\n",
              "<g class=\"displacy-arrow\">\n",
              "    <path class=\"displacy-arc\" id=\"arrow-bca51f77d32f40348acf822457f1a968-0-11\" stroke-width=\"2px\" d=\"M2170,352.0 C2170,264.5 2310.0,264.5 2310.0,352.0\" fill=\"none\" stroke=\"currentColor\"/>\n",
              "    <text dy=\"1.25em\" style=\"font-size: 0.8em; letter-spacing: 1px\">\n",
              "        <textPath xlink:href=\"#arrow-bca51f77d32f40348acf822457f1a968-0-11\" class=\"displacy-label\" startOffset=\"50%\" side=\"left\" fill=\"currentColor\" text-anchor=\"middle\">compound</textPath>\n",
              "    </text>\n",
              "    <path class=\"displacy-arrowhead\" d=\"M2170,354.0 L2162,342.0 2178,342.0\" fill=\"currentColor\"/>\n",
              "</g>\n",
              "\n",
              "<g class=\"displacy-arrow\">\n",
              "    <path class=\"displacy-arc\" id=\"arrow-bca51f77d32f40348acf822457f1a968-0-12\" stroke-width=\"2px\" d=\"M2345,352.0 C2345,264.5 2485.0,264.5 2485.0,352.0\" fill=\"none\" stroke=\"currentColor\"/>\n",
              "    <text dy=\"1.25em\" style=\"font-size: 0.8em; letter-spacing: 1px\">\n",
              "        <textPath xlink:href=\"#arrow-bca51f77d32f40348acf822457f1a968-0-12\" class=\"displacy-label\" startOffset=\"50%\" side=\"left\" fill=\"currentColor\" text-anchor=\"middle\">nsubj</textPath>\n",
              "    </text>\n",
              "    <path class=\"displacy-arrowhead\" d=\"M2345,354.0 L2337,342.0 2353,342.0\" fill=\"currentColor\"/>\n",
              "</g>\n",
              "\n",
              "<g class=\"displacy-arrow\">\n",
              "    <path class=\"displacy-arc\" id=\"arrow-bca51f77d32f40348acf822457f1a968-0-13\" stroke-width=\"2px\" d=\"M420,352.0 C420,2.0 2500.0,2.0 2500.0,352.0\" fill=\"none\" stroke=\"currentColor\"/>\n",
              "    <text dy=\"1.25em\" style=\"font-size: 0.8em; letter-spacing: 1px\">\n",
              "        <textPath xlink:href=\"#arrow-bca51f77d32f40348acf822457f1a968-0-13\" class=\"displacy-label\" startOffset=\"50%\" side=\"left\" fill=\"currentColor\" text-anchor=\"middle\">conj</textPath>\n",
              "    </text>\n",
              "    <path class=\"displacy-arrowhead\" d=\"M2500.0,354.0 L2508.0,342.0 2492.0,342.0\" fill=\"currentColor\"/>\n",
              "</g>\n",
              "\n",
              "<g class=\"displacy-arrow\">\n",
              "    <path class=\"displacy-arc\" id=\"arrow-bca51f77d32f40348acf822457f1a968-0-14\" stroke-width=\"2px\" d=\"M2520,352.0 C2520,264.5 2660.0,264.5 2660.0,352.0\" fill=\"none\" stroke=\"currentColor\"/>\n",
              "    <text dy=\"1.25em\" style=\"font-size: 0.8em; letter-spacing: 1px\">\n",
              "        <textPath xlink:href=\"#arrow-bca51f77d32f40348acf822457f1a968-0-14\" class=\"displacy-label\" startOffset=\"50%\" side=\"left\" fill=\"currentColor\" text-anchor=\"middle\">prep</textPath>\n",
              "    </text>\n",
              "    <path class=\"displacy-arrowhead\" d=\"M2660.0,354.0 L2668.0,342.0 2652.0,342.0\" fill=\"currentColor\"/>\n",
              "</g>\n",
              "\n",
              "<g class=\"displacy-arrow\">\n",
              "    <path class=\"displacy-arc\" id=\"arrow-bca51f77d32f40348acf822457f1a968-0-15\" stroke-width=\"2px\" d=\"M2695,352.0 C2695,264.5 2835.0,264.5 2835.0,352.0\" fill=\"none\" stroke=\"currentColor\"/>\n",
              "    <text dy=\"1.25em\" style=\"font-size: 0.8em; letter-spacing: 1px\">\n",
              "        <textPath xlink:href=\"#arrow-bca51f77d32f40348acf822457f1a968-0-15\" class=\"displacy-label\" startOffset=\"50%\" side=\"left\" fill=\"currentColor\" text-anchor=\"middle\">pobj</textPath>\n",
              "    </text>\n",
              "    <path class=\"displacy-arrowhead\" d=\"M2835.0,354.0 L2843.0,342.0 2827.0,342.0\" fill=\"currentColor\"/>\n",
              "</g>\n",
              "\n",
              "<g class=\"displacy-arrow\">\n",
              "    <path class=\"displacy-arc\" id=\"arrow-bca51f77d32f40348acf822457f1a968-0-16\" stroke-width=\"2px\" d=\"M2870,352.0 C2870,264.5 3010.0,264.5 3010.0,352.0\" fill=\"none\" stroke=\"currentColor\"/>\n",
              "    <text dy=\"1.25em\" style=\"font-size: 0.8em; letter-spacing: 1px\">\n",
              "        <textPath xlink:href=\"#arrow-bca51f77d32f40348acf822457f1a968-0-16\" class=\"displacy-label\" startOffset=\"50%\" side=\"left\" fill=\"currentColor\" text-anchor=\"middle\">cc</textPath>\n",
              "    </text>\n",
              "    <path class=\"displacy-arrowhead\" d=\"M3010.0,354.0 L3018.0,342.0 3002.0,342.0\" fill=\"currentColor\"/>\n",
              "</g>\n",
              "\n",
              "<g class=\"displacy-arrow\">\n",
              "    <path class=\"displacy-arc\" id=\"arrow-bca51f77d32f40348acf822457f1a968-0-17\" stroke-width=\"2px\" d=\"M3220,352.0 C3220,264.5 3360.0,264.5 3360.0,352.0\" fill=\"none\" stroke=\"currentColor\"/>\n",
              "    <text dy=\"1.25em\" style=\"font-size: 0.8em; letter-spacing: 1px\">\n",
              "        <textPath xlink:href=\"#arrow-bca51f77d32f40348acf822457f1a968-0-17\" class=\"displacy-label\" startOffset=\"50%\" side=\"left\" fill=\"currentColor\" text-anchor=\"middle\">compound</textPath>\n",
              "    </text>\n",
              "    <path class=\"displacy-arrowhead\" d=\"M3220,354.0 L3212,342.0 3228,342.0\" fill=\"currentColor\"/>\n",
              "</g>\n",
              "\n",
              "<g class=\"displacy-arrow\">\n",
              "    <path class=\"displacy-arc\" id=\"arrow-bca51f77d32f40348acf822457f1a968-0-18\" stroke-width=\"2px\" d=\"M3395,352.0 C3395,264.5 3535.0,264.5 3535.0,352.0\" fill=\"none\" stroke=\"currentColor\"/>\n",
              "    <text dy=\"1.25em\" style=\"font-size: 0.8em; letter-spacing: 1px\">\n",
              "        <textPath xlink:href=\"#arrow-bca51f77d32f40348acf822457f1a968-0-18\" class=\"displacy-label\" startOffset=\"50%\" side=\"left\" fill=\"currentColor\" text-anchor=\"middle\">compound</textPath>\n",
              "    </text>\n",
              "    <path class=\"displacy-arrowhead\" d=\"M3395,354.0 L3387,342.0 3403,342.0\" fill=\"currentColor\"/>\n",
              "</g>\n",
              "\n",
              "<g class=\"displacy-arrow\">\n",
              "    <path class=\"displacy-arc\" id=\"arrow-bca51f77d32f40348acf822457f1a968-0-19\" stroke-width=\"2px\" d=\"M2870,352.0 C2870,177.0 3540.0,177.0 3540.0,352.0\" fill=\"none\" stroke=\"currentColor\"/>\n",
              "    <text dy=\"1.25em\" style=\"font-size: 0.8em; letter-spacing: 1px\">\n",
              "        <textPath xlink:href=\"#arrow-bca51f77d32f40348acf822457f1a968-0-19\" class=\"displacy-label\" startOffset=\"50%\" side=\"left\" fill=\"currentColor\" text-anchor=\"middle\">conj</textPath>\n",
              "    </text>\n",
              "    <path class=\"displacy-arrowhead\" d=\"M3540.0,354.0 L3548.0,342.0 3532.0,342.0\" fill=\"currentColor\"/>\n",
              "</g>\n",
              "\n",
              "<g class=\"displacy-arrow\">\n",
              "    <path class=\"displacy-arc\" id=\"arrow-bca51f77d32f40348acf822457f1a968-0-20\" stroke-width=\"2px\" d=\"M2520,352.0 C2520,89.5 3720.0,89.5 3720.0,352.0\" fill=\"none\" stroke=\"currentColor\"/>\n",
              "    <text dy=\"1.25em\" style=\"font-size: 0.8em; letter-spacing: 1px\">\n",
              "        <textPath xlink:href=\"#arrow-bca51f77d32f40348acf822457f1a968-0-20\" class=\"displacy-label\" startOffset=\"50%\" side=\"left\" fill=\"currentColor\" text-anchor=\"middle\">prep</textPath>\n",
              "    </text>\n",
              "    <path class=\"displacy-arrowhead\" d=\"M3720.0,354.0 L3728.0,342.0 3712.0,342.0\" fill=\"currentColor\"/>\n",
              "</g>\n",
              "\n",
              "<g class=\"displacy-arrow\">\n",
              "    <path class=\"displacy-arc\" id=\"arrow-bca51f77d32f40348acf822457f1a968-0-21\" stroke-width=\"2px\" d=\"M3920,352.0 C3920,264.5 4060.0,264.5 4060.0,352.0\" fill=\"none\" stroke=\"currentColor\"/>\n",
              "    <text dy=\"1.25em\" style=\"font-size: 0.8em; letter-spacing: 1px\">\n",
              "        <textPath xlink:href=\"#arrow-bca51f77d32f40348acf822457f1a968-0-21\" class=\"displacy-label\" startOffset=\"50%\" side=\"left\" fill=\"currentColor\" text-anchor=\"middle\">compound</textPath>\n",
              "    </text>\n",
              "    <path class=\"displacy-arrowhead\" d=\"M3920,354.0 L3912,342.0 3928,342.0\" fill=\"currentColor\"/>\n",
              "</g>\n",
              "\n",
              "<g class=\"displacy-arrow\">\n",
              "    <path class=\"displacy-arc\" id=\"arrow-bca51f77d32f40348acf822457f1a968-0-22\" stroke-width=\"2px\" d=\"M3745,352.0 C3745,177.0 4065.0,177.0 4065.0,352.0\" fill=\"none\" stroke=\"currentColor\"/>\n",
              "    <text dy=\"1.25em\" style=\"font-size: 0.8em; letter-spacing: 1px\">\n",
              "        <textPath xlink:href=\"#arrow-bca51f77d32f40348acf822457f1a968-0-22\" class=\"displacy-label\" startOffset=\"50%\" side=\"left\" fill=\"currentColor\" text-anchor=\"middle\">pobj</textPath>\n",
              "    </text>\n",
              "    <path class=\"displacy-arrowhead\" d=\"M4065.0,354.0 L4073.0,342.0 4057.0,342.0\" fill=\"currentColor\"/>\n",
              "</g>\n",
              "\n",
              "<g class=\"displacy-arrow\">\n",
              "    <path class=\"displacy-arc\" id=\"arrow-bca51f77d32f40348acf822457f1a968-0-23\" stroke-width=\"2px\" d=\"M2520,352.0 C2520,2.0 4250.0,2.0 4250.0,352.0\" fill=\"none\" stroke=\"currentColor\"/>\n",
              "    <text dy=\"1.25em\" style=\"font-size: 0.8em; letter-spacing: 1px\">\n",
              "        <textPath xlink:href=\"#arrow-bca51f77d32f40348acf822457f1a968-0-23\" class=\"displacy-label\" startOffset=\"50%\" side=\"left\" fill=\"currentColor\" text-anchor=\"middle\">prep</textPath>\n",
              "    </text>\n",
              "    <path class=\"displacy-arrowhead\" d=\"M4250.0,354.0 L4258.0,342.0 4242.0,342.0\" fill=\"currentColor\"/>\n",
              "</g>\n",
              "\n",
              "<g class=\"displacy-arrow\">\n",
              "    <path class=\"displacy-arc\" id=\"arrow-bca51f77d32f40348acf822457f1a968-0-24\" stroke-width=\"2px\" d=\"M4445,352.0 C4445,264.5 4585.0,264.5 4585.0,352.0\" fill=\"none\" stroke=\"currentColor\"/>\n",
              "    <text dy=\"1.25em\" style=\"font-size: 0.8em; letter-spacing: 1px\">\n",
              "        <textPath xlink:href=\"#arrow-bca51f77d32f40348acf822457f1a968-0-24\" class=\"displacy-label\" startOffset=\"50%\" side=\"left\" fill=\"currentColor\" text-anchor=\"middle\">compound</textPath>\n",
              "    </text>\n",
              "    <path class=\"displacy-arrowhead\" d=\"M4445,354.0 L4437,342.0 4453,342.0\" fill=\"currentColor\"/>\n",
              "</g>\n",
              "\n",
              "<g class=\"displacy-arrow\">\n",
              "    <path class=\"displacy-arc\" id=\"arrow-bca51f77d32f40348acf822457f1a968-0-25\" stroke-width=\"2px\" d=\"M4270,352.0 C4270,177.0 4590.0,177.0 4590.0,352.0\" fill=\"none\" stroke=\"currentColor\"/>\n",
              "    <text dy=\"1.25em\" style=\"font-size: 0.8em; letter-spacing: 1px\">\n",
              "        <textPath xlink:href=\"#arrow-bca51f77d32f40348acf822457f1a968-0-25\" class=\"displacy-label\" startOffset=\"50%\" side=\"left\" fill=\"currentColor\" text-anchor=\"middle\">pobj</textPath>\n",
              "    </text>\n",
              "    <path class=\"displacy-arrowhead\" d=\"M4590.0,354.0 L4598.0,342.0 4582.0,342.0\" fill=\"currentColor\"/>\n",
              "</g>\n",
              "</svg></span>"
            ],
            "text/plain": [
              "<IPython.core.display.HTML object>"
            ]
          },
          "metadata": {},
          "output_type": "display_data"
        }
      ],
      "source": [
        "from spacy import displacy\n",
        "\n",
        "# In[2]:\n",
        "doc = nlp(cleaned_text)\n",
        "displacy.render(doc, style=\"dep\")\n"
      ]
    },
    {
      "cell_type": "markdown",
      "metadata": {
        "id": "neVZxa9AxcDr"
      },
      "source": [
        "###Visualizing the entity recognizer\n",
        "\n",
        "The entity visualizer, **ent**, highlights named entities and their labels in a text."
      ]
    },
    {
      "cell_type": "code",
      "execution_count": 30,
      "metadata": {
        "colab": {
          "base_uri": "https://localhost:8080/",
          "height": 52
        },
        "id": "A09p8WOfxkLn",
        "outputId": "e1dec812-b89f-454e-ad60-b7f889ecbcea"
      },
      "outputs": [
        {
          "data": {
            "text/html": [
              "<span class=\"tex2jax_ignore\"><div class=\"entities\" style=\"line-height: 2.5; direction: ltr\">\n",
              "<mark class=\"entity\" style=\"background: #aa9cfc; padding: 0.45em 0.6em; margin: 0 0.25em; line-height: 1; border-radius: 0.35em;\">\n",
              "    john\n",
              "    <span style=\"font-size: 0.8em; font-weight: bold; line-height: 1; border-radius: 0.35em; vertical-align: middle; margin-left: 0.5rem\">PERSON</span>\n",
              "</mark>\n",
              " doe experienced software engineer with a strong background in python and machine learning worked at \n",
              "<mark class=\"entity\" style=\"background: #7aecec; padding: 0.45em 0.6em; margin: 0 0.25em; line-height: 1; border-radius: 0.35em;\">\n",
              "    google\n",
              "    <span style=\"font-size: 0.8em; font-weight: bold; line-height: 1; border-radius: 0.35em; vertical-align: middle; margin-left: 0.5rem\">ORG</span>\n",
              "</mark>\n",
              " and \n",
              "<mark class=\"entity\" style=\"background: #7aecec; padding: 0.45em 0.6em; margin: 0 0.25em; line-height: 1; border-radius: 0.35em;\">\n",
              "    microsoft\n",
              "    <span style=\"font-size: 0.8em; font-weight: bold; line-height: 1; border-radius: 0.35em; vertical-align: middle; margin-left: 0.5rem\">ORG</span>\n",
              "</mark>\n",
              " education \n",
              "<mark class=\"entity\" style=\"background: #7aecec; padding: 0.45em 0.6em; margin: 0 0.25em; line-height: 1; border-radius: 0.35em;\">\n",
              "    bsc\n",
              "    <span style=\"font-size: 0.8em; font-weight: bold; line-height: 1; border-radius: 0.35em; vertical-align: middle; margin-left: 0.5rem\">ORG</span>\n",
              "</mark>\n",
              " in computer science from mit contact</div></span>"
            ],
            "text/plain": [
              "<IPython.core.display.HTML object>"
            ]
          },
          "metadata": {},
          "output_type": "display_data"
        }
      ],
      "source": [
        "doc = nlp(cleaned_text)\n",
        "displacy.render(doc, style=\"ent\")"
      ]
    },
    {
      "cell_type": "markdown",
      "metadata": {
        "id": "H0jKkiaiyH4c"
      },
      "source": [
        "###Task\n",
        "Compare entities from clean and not cleaned text. Try to visualise entities of not cleaned text"
      ]
    },
    {
      "cell_type": "code",
      "execution_count": null,
      "metadata": {
        "id": "i9dxFQFAyKsB"
      },
      "outputs": [],
      "source": []
    }
  ],
  "metadata": {
    "colab": {
      "provenance": []
    },
    "kernelspec": {
      "display_name": "nlptest",
      "language": "python",
      "name": "python3"
    },
    "language_info": {
      "codemirror_mode": {
        "name": "ipython",
        "version": 3
      },
      "file_extension": ".py",
      "mimetype": "text/x-python",
      "name": "python",
      "nbconvert_exporter": "python",
      "pygments_lexer": "ipython3",
      "version": "3.12.0"
    }
  },
  "nbformat": 4,
  "nbformat_minor": 0
}
