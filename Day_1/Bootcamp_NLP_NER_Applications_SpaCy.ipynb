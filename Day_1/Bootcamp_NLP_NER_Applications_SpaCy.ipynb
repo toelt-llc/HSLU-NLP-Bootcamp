{
  "cells": [
    {
      "cell_type": "code",
      "execution_count": 3,
      "metadata": {
        "id": "Zvik04m9XQQT"
      },
      "outputs": [
        {
          "name": "stdout",
          "output_type": "stream",
          "text": [
            "Collecting textblob\n",
            "  Downloading textblob-0.19.0-py3-none-any.whl.metadata (4.4 kB)\n",
            "Requirement already satisfied: nltk>=3.9 in /Users/arnaud/miniconda3/envs/nlptest/lib/python3.12/site-packages (from textblob) (3.9.1)\n",
            "Requirement already satisfied: click in /Users/arnaud/miniconda3/envs/nlptest/lib/python3.12/site-packages (from nltk>=3.9->textblob) (8.1.8)\n",
            "Requirement already satisfied: joblib in /Users/arnaud/miniconda3/envs/nlptest/lib/python3.12/site-packages (from nltk>=3.9->textblob) (1.4.2)\n",
            "Requirement already satisfied: regex>=2021.8.3 in /Users/arnaud/miniconda3/envs/nlptest/lib/python3.12/site-packages (from nltk>=3.9->textblob) (2024.11.6)\n",
            "Requirement already satisfied: tqdm in /Users/arnaud/miniconda3/envs/nlptest/lib/python3.12/site-packages (from nltk>=3.9->textblob) (4.67.1)\n",
            "Downloading textblob-0.19.0-py3-none-any.whl (624 kB)\n",
            "\u001b[2K   \u001b[90m━━━━━━━━━━━━━━━━━━━━━━━━━━━━━━━━━━━━━━━━\u001b[0m \u001b[32m624.3/624.3 kB\u001b[0m \u001b[31m5.6 MB/s\u001b[0m eta \u001b[36m0:00:00\u001b[0m\n",
            "\u001b[?25hInstalling collected packages: textblob\n",
            "Successfully installed textblob-0.19.0\n",
            "Collecting en-core-web-sm==3.8.0\n",
            "  Using cached https://github.com/explosion/spacy-models/releases/download/en_core_web_sm-3.8.0/en_core_web_sm-3.8.0-py3-none-any.whl (12.8 MB)\n",
            "\u001b[38;5;2m✔ Download and installation successful\u001b[0m\n",
            "You can now load the package via spacy.load('en_core_web_sm')\n",
            "Collecting en-core-web-lg==3.8.0\n",
            "  Downloading https://github.com/explosion/spacy-models/releases/download/en_core_web_lg-3.8.0/en_core_web_lg-3.8.0-py3-none-any.whl (400.7 MB)\n",
            "\u001b[2K     \u001b[90m━━━━━━━━━━━━━━━━━━━━━━━━━━━━━━━━━━━━━━━\u001b[0m \u001b[32m400.7/400.7 MB\u001b[0m \u001b[31m6.0 MB/s\u001b[0m eta \u001b[36m0:00:00\u001b[0m00:01\u001b[0m00:02\u001b[0m\n",
            "\u001b[?25hInstalling collected packages: en-core-web-lg\n",
            "Successfully installed en-core-web-lg-3.8.0\n",
            "\u001b[38;5;2m✔ Download and installation successful\u001b[0m\n",
            "You can now load the package via spacy.load('en_core_web_lg')\n"
          ]
        }
      ],
      "source": [
        "# Install and Import Required Libraries\n",
        "#!pip install spacy -q\n",
        "!pip install textblob\n",
        "!python -m spacy download en_core_web_sm\n",
        "!python -m spacy download en_core_web_lg"
      ]
    },
    {
      "cell_type": "code",
      "execution_count": 4,
      "metadata": {
        "id": "E5ZiyURvXUCE"
      },
      "outputs": [],
      "source": [
        "import spacy\n",
        "import re\n",
        "from collections import Counter\n",
        "from datetime import datetime\n",
        "import pandas as pd\n",
        "import matplotlib.pyplot as plt\n",
        "from collections import Counter\n",
        "from textblob import TextBlob"
      ]
    },
    {
      "cell_type": "code",
      "execution_count": 5,
      "metadata": {
        "id": "hb8rPE4QgJEY"
      },
      "outputs": [],
      "source": [
        "# Load spaCy model\n",
        "nlp = spacy.load(\"en_core_web_sm\")"
      ]
    },
    {
      "cell_type": "code",
      "execution_count": 6,
      "metadata": {
        "id": "KRJy__LKhGzh"
      },
      "outputs": [],
      "source": [
        "# load large SpaCy model\n",
        "#nlp = spacy.load(\"en_core_web_lg\")"
      ]
    },
    {
      "cell_type": "markdown",
      "metadata": {
        "id": "xCid-LG0ipJC"
      },
      "source": [
        "## Basic NER SpaCy functions\n"
      ]
    },
    {
      "cell_type": "code",
      "execution_count": 7,
      "metadata": {
        "id": "3Y8c_dweibQP"
      },
      "outputs": [],
      "source": [
        "# text example\n",
        "text = \"Apple is looking to buy U.K. startup for $1 billion\"\n",
        "doc = nlp(text)"
      ]
    },
    {
      "cell_type": "code",
      "execution_count": 8,
      "metadata": {
        "colab": {
          "base_uri": "https://localhost:8080/"
        },
        "id": "wM93nuXrkfWC",
        "outputId": "055cc727-103f-4192-bfbd-78707587707e"
      },
      "outputs": [
        {
          "name": "stdout",
          "output_type": "stream",
          "text": [
            "All entity labels available in this model: ('CARDINAL', 'DATE', 'EVENT', 'FAC', 'GPE', 'LANGUAGE', 'LAW', 'LOC', 'MONEY', 'NORP', 'ORDINAL', 'ORG', 'PERCENT', 'PERSON', 'PRODUCT', 'QUANTITY', 'TIME', 'WORK_OF_ART')\n"
          ]
        }
      ],
      "source": [
        "# check all possible entity labels in your model\n",
        "entity_labels = nlp.get_pipe(\"ner\").labels\n",
        "print(\"All entity labels available in this model:\", entity_labels)"
      ]
    },
    {
      "cell_type": "markdown",
      "metadata": {
        "id": "m1ngmkwXj1zd"
      },
      "source": [
        "## Description of each entity label in spaCy:\n",
        "\n",
        "CARDINAL: Numerals that don't fall under another type (like MONEY, DATE, etc.). Examples: \"two\", \"twenty\", \"100\".\n",
        "\n",
        "DATE: Absolute or relative dates or periods. Examples: \"January 2023\", \"yesterday\", \"last summer\".\n",
        "\n",
        "EVENT: Named events like hurricanes, wars, sports events. Examples: \"World Cup\", \"Christmas\", \"Civil War\".\n",
        "\n",
        "FAC: Facilities, buildings, airports, highways, bridges. Examples: \"Empire State Building\", \"JFK Airport\", \"Golden Gate Bridge\".\n",
        "\n",
        "GPE: Geo-political entities - countries, cities, states. Examples: \"France\", \"New York City\", \"California\".\n",
        "\n",
        "LANGUAGE: Named languages. Examples: \"Spanish\", \"Japanese\", \"ASL\".\n",
        "\n",
        "LAW: Named documents made into laws. Examples: \"Constitution\", \"Bill of Rights\", \"GDPR\".\n",
        "\n",
        "LOC: Non-GPE locations, mountain ranges, bodies of water. Examples: \"Himalayan Mountains\", \"Atlantic Ocean\", \"the South Pole\".\n",
        "\n",
        "MONEY: Monetary values, including unit. Examples: \"$100\", \"10 euros\", \"5 dollars\".\n",
        "\n",
        "NORP: Nationalities, religious or political groups. Examples: \"Americans\", \"Christians\", \"Republicans\".\n",
        "\n",
        "ORDINAL: Ordinal numbers. Examples: \"first\", \"second\", \"10th\".\n",
        "\n",
        "ORG: Companies, agencies, institutions. Examples: \"Microsoft\", \"FBI\", \"University of Michigan\".\n",
        "\n",
        "PERCENT: Percentage values. Examples: \"10%\", \"twenty percent\", \"10 percentage points\".\n",
        "\n",
        "PERSON: People, including fictional characters. Examples: \"Barack Obama\", \"Harry Potter\", \"Taylor Swift\".\n",
        "\n",
        "PRODUCT: Objects, vehicles, foods, etc. (not services). Examples: \"iPhone\", \"Boeing 747\", \"Pepsi\".\n",
        "\n",
        "QUANTITY: Measurements with units. Examples: \"10km\", \"50 feet\", \"200lbs\".\n",
        "\n",
        "TIME: Times of day, not including dates. Examples: \"3pm\", \"noon\", \"midnight\".\n",
        "\n",
        "WORK_OF_ART: Titles of books, songs, movies, etc. Examples: \"The Great Gatsby\", \"Bohemian Rhapsody\", \"Star Wars\"."
      ]
    },
    {
      "cell_type": "code",
      "execution_count": 9,
      "metadata": {
        "colab": {
          "base_uri": "https://localhost:8080/"
        },
        "id": "hMwXOaEFiXNp",
        "outputId": "4867dd7a-28ff-49e8-c5ed-835c18248dfc"
      },
      "outputs": [
        {
          "name": "stdout",
          "output_type": "stream",
          "text": [
            "Entity: Apple, Label: ORG, Label Description: Companies, agencies, institutions, etc.\n",
            "Entity: U.K., Label: GPE, Label Description: Countries, cities, states\n",
            "Entity: $1 billion, Label: MONEY, Label Description: Monetary values, including unit\n"
          ]
        }
      ],
      "source": [
        "# Iterate through entities and print their labels\n",
        "for ent in doc.ents:\n",
        "    print(f\"Entity: {ent.text}, Label: {ent.label_}, Label Description: {spacy.explain(ent.label_)}\")\n"
      ]
    },
    {
      "cell_type": "code",
      "execution_count": 10,
      "metadata": {
        "colab": {
          "base_uri": "https://localhost:8080/",
          "height": 52
        },
        "id": "7A-UKUEGjJkv",
        "outputId": "d39ab42a-652c-4f6a-abd5-e21c2767b6df"
      },
      "outputs": [
        {
          "data": {
            "text/html": [
              "<span class=\"tex2jax_ignore\"><div class=\"entities\" style=\"line-height: 2.5; direction: ltr\">\n",
              "<mark class=\"entity\" style=\"background: #7aecec; padding: 0.45em 0.6em; margin: 0 0.25em; line-height: 1; border-radius: 0.35em;\">\n",
              "    Apple\n",
              "    <span style=\"font-size: 0.8em; font-weight: bold; line-height: 1; border-radius: 0.35em; vertical-align: middle; margin-left: 0.5rem\">ORG</span>\n",
              "</mark>\n",
              " is looking to buy \n",
              "<mark class=\"entity\" style=\"background: #feca74; padding: 0.45em 0.6em; margin: 0 0.25em; line-height: 1; border-radius: 0.35em;\">\n",
              "    U.K.\n",
              "    <span style=\"font-size: 0.8em; font-weight: bold; line-height: 1; border-radius: 0.35em; vertical-align: middle; margin-left: 0.5rem\">GPE</span>\n",
              "</mark>\n",
              " startup for \n",
              "<mark class=\"entity\" style=\"background: #e4e7d2; padding: 0.45em 0.6em; margin: 0 0.25em; line-height: 1; border-radius: 0.35em;\">\n",
              "    $1 billion\n",
              "    <span style=\"font-size: 0.8em; font-weight: bold; line-height: 1; border-radius: 0.35em; vertical-align: middle; margin-left: 0.5rem\">MONEY</span>\n",
              "</mark>\n",
              "</div></span>"
            ],
            "text/plain": [
              "<IPython.core.display.HTML object>"
            ]
          },
          "metadata": {},
          "output_type": "display_data"
        }
      ],
      "source": [
        "# Visualize entities in a document\n",
        "from spacy import displacy\n",
        "displacy.render(doc, style=\"ent\")"
      ]
    },
    {
      "cell_type": "code",
      "execution_count": 11,
      "metadata": {
        "colab": {
          "base_uri": "https://localhost:8080/"
        },
        "id": "VRC9Q62OjG5q",
        "outputId": "a50c5e21-f587-4edf-c055-ec92fa7cbfe2"
      },
      "outputs": [
        {
          "name": "stdout",
          "output_type": "stream",
          "text": [
            "Unique entity labels in this document: {'GPE', 'ORG', 'MONEY'}\n"
          ]
        }
      ],
      "source": [
        "# Get all unique entity labels in the text\n",
        "unique_labels = set([ent.label_ for ent in doc.ents])\n",
        "print(\"Unique entity labels in this document:\", unique_labels)\n"
      ]
    },
    {
      "cell_type": "markdown",
      "metadata": {
        "id": "0XghUMMub3Zn"
      },
      "source": [
        "#NER Applications in Data Engineering"
      ]
    },
    {
      "cell_type": "markdown",
      "metadata": {
        "id": "LRLVjox6c4Qs"
      },
      "source": [
        "# 1. Basic Log Analysis"
      ]
    },
    {
      "cell_type": "code",
      "execution_count": 12,
      "metadata": {
        "id": "4NqBJ2pyc2_h"
      },
      "outputs": [],
      "source": [
        "def analyze_log(log_text):\n",
        "    \"\"\"Extract important information from log entries\"\"\"\n",
        "    doc = nlp(log_text)\n",
        "\n",
        "    # Extract entities\n",
        "    entities = {\n",
        "        'systems': [ent.text for ent in doc.ents if ent.label_ == 'ORG'],\n",
        "        'dates': [ent.text for ent in doc.ents if ent.label_ == 'DATE'],\n",
        "        'error_mentioned': 'error' in log_text.lower()\n",
        "    }\n",
        "\n",
        "    return entities"
      ]
    },
    {
      "cell_type": "code",
      "execution_count": 13,
      "metadata": {
        "colab": {
          "base_uri": "https://localhost:8080/"
        },
        "id": "Mw-sW96cc-sT",
        "outputId": "5faccfb3-fb6d-4e71-872f-39c315814c7a"
      },
      "outputs": [
        {
          "name": "stdout",
          "output_type": "stream",
          "text": [
            "Log Analysis Results: {'systems': [], 'dates': ['January 23, 2024'], 'error_mentioned': True}\n"
          ]
        }
      ],
      "source": [
        "# Test log analysis\n",
        "sample_log = \"\"\"\n",
        "Server1 reported error on January 23, 2024.\n",
        "Database backup completed on MainSystem.\n",
        "\"\"\"\n",
        "\n",
        "log_results = analyze_log(sample_log)\n",
        "print(\"Log Analysis Results:\", log_results)\n"
      ]
    },
    {
      "cell_type": "markdown",
      "metadata": {
        "id": "uc-GH0lEfFHR"
      },
      "source": [
        "## Log Analysis\n",
        "**Objective**: Analyze system logs to identify patterns, issues, and security concerns."
      ]
    },
    {
      "cell_type": "code",
      "execution_count": 14,
      "metadata": {
        "id": "t2a9xsH4fEWC"
      },
      "outputs": [],
      "source": [
        "def analyze_logs(log_text):\n",
        "    \"\"\"Analyze system logs using spaCy and regex patterns\"\"\"\n",
        "    nlp = spacy.load(\"en_core_web_sm\")\n",
        "    doc = nlp(log_text)\n",
        "\n",
        "    # Initialize patterns\n",
        "    timestamp_pattern = r'\\[(.*?)\\]'\n",
        "    ip_pattern = r'\\b(?:\\d{1,3}\\.){3}\\d{1,3}\\b'\n",
        "    level_pattern = r'INFO|ERROR|WARNING|CRITICAL'\n",
        "\n",
        "    # Extract basic information\n",
        "    log_entries = []\n",
        "\n",
        "    for line in log_text.split('\\n'):\n",
        "        if line.strip():\n",
        "            # Extract timestamp\n",
        "            timestamp_match = re.search(timestamp_pattern, line)\n",
        "            timestamp = timestamp_match.group(1) if timestamp_match else None\n",
        "\n",
        "            # Extract log level\n",
        "            level_match = re.search(level_pattern, line)\n",
        "            level = level_match.group(0) if level_match else None\n",
        "\n",
        "            # Extract IPs\n",
        "            ips = re.findall(ip_pattern, line)\n",
        "\n",
        "            # Process with spaCy for entity recognition\n",
        "            doc_line = nlp(line)\n",
        "\n",
        "            entry = {\n",
        "                'timestamp': timestamp,\n",
        "                'level': level,\n",
        "                'ips': ips,\n",
        "                'systems': [ent.text for ent in doc_line.ents if ent.label_ == 'ORG'],\n",
        "                'message': line.split('] ')[-1] if '] ' in line else line\n",
        "            }\n",
        "            log_entries.append(entry)\n",
        "\n",
        "    # Analyze patterns\n",
        "    error_count = Counter([entry['level'] for entry in log_entries])\n",
        "    system_mentions = Counter([system for entry in log_entries\n",
        "                             for system in entry['systems']])\n",
        "    ip_addresses = [ip for entry in log_entries for ip in entry['ips']]\n",
        "\n",
        "    return {\n",
        "        'entries': log_entries,\n",
        "        'statistics': {\n",
        "            'error_levels': dict(error_count),\n",
        "            'system_mentions': dict(system_mentions),\n",
        "            'unique_ips': list(set(ip_addresses))\n",
        "        }\n",
        "    }\n",
        "\n"
      ]
    },
    {
      "cell_type": "code",
      "execution_count": 15,
      "metadata": {
        "id": "yKm82WOageTN"
      },
      "outputs": [],
      "source": [
        "# function to visualize the log analysis\n",
        "def visualize_log_analysis(analysis):\n",
        "    \"\"\"Create visualizations for log analysis\"\"\"\n",
        "    # Error levels distribution\n",
        "    plt.figure(figsize=(10, 5))\n",
        "    error_levels = analysis['statistics']['error_levels']\n",
        "    plt.bar(error_levels.keys(), error_levels.values())\n",
        "    plt.title('Distribution of Log Levels')\n",
        "    plt.xticks(rotation=45)\n",
        "    plt.tight_layout()\n",
        "    plt.show()\n",
        "\n",
        "    # System mentions\n",
        "    plt.figure(figsize=(12, 5))\n",
        "    system_mentions = analysis['statistics']['system_mentions']\n",
        "    plt.bar(system_mentions.keys(), system_mentions.values())\n",
        "    plt.title('System Mentions Frequency')\n",
        "    plt.xticks(rotation=45)\n",
        "    plt.tight_layout()\n",
        "    plt.show()"
      ]
    },
    {
      "cell_type": "code",
      "execution_count": 16,
      "metadata": {
        "id": "olsjgqYWgiAd"
      },
      "outputs": [],
      "source": [
        "# Test the analysis\n",
        "sample_logs = \"\"\"\n",
        "[2024-01-24 08:00:15] INFO - MainServer1 startup completed successfully. System health check passed.\n",
        "[2024-01-24 08:15:22] ERROR - Database01 connection failed at 192.168.1.100. Retry attempt 1 initiated.\n",
        "[2024-01-24 08:15:30] WARNING - High CPU usage detected on AppServer2 (85%). Memory utilization: 75%.\n",
        "[2024-01-24 08:16:05] ERROR - Database01 connection failed at 192.168.1.100. Retry attempt 2 initiated.\n",
        "[2024-01-24 08:20:45] INFO - Backup process started on StorageServer3. Target: /mnt/backup/daily.\n",
        "[2024-01-24 08:25:10] ERROR - SecurityModule detected unauthorized access attempt from IP 203.0.113.45.\n",
        "\"\"\""
      ]
    },
    {
      "cell_type": "code",
      "execution_count": 17,
      "metadata": {
        "id": "kerPte3dgsyB"
      },
      "outputs": [],
      "source": [
        "# Run analysis\n",
        "results = analyze_logs(sample_logs)"
      ]
    },
    {
      "cell_type": "code",
      "execution_count": 18,
      "metadata": {
        "colab": {
          "base_uri": "https://localhost:8080/"
        },
        "id": "EGQ_RJhvgyGJ",
        "outputId": "dc0ca915-e94b-4903-d9f4-fd927f3612b3"
      },
      "outputs": [
        {
          "name": "stdout",
          "output_type": "stream",
          "text": [
            "Log Analysis Results:\n",
            "\n",
            "Error Level Distribution:\n",
            "INFO: 2\n",
            "ERROR: 3\n",
            "WARNING: 1\n",
            "\n",
            "Unique IP Addresses:\n",
            "203.0.113.45\n",
            "192.168.1.100\n",
            "\n",
            "System Mentions:\n",
            "CPU: 1\n",
            "INFO - Backup: 1\n",
            "Target: 1\n",
            "IP: 1\n"
          ]
        }
      ],
      "source": [
        "# Print results\n",
        "print(\"Log Analysis Results:\\n\")\n",
        "print(\"Error Level Distribution:\")\n",
        "for level, count in results['statistics']['error_levels'].items():\n",
        "    print(f\"{level}: {count}\")\n",
        "\n",
        "print(\"\\nUnique IP Addresses:\")\n",
        "for ip in results['statistics']['unique_ips']:\n",
        "    print(ip)\n",
        "\n",
        "print(\"\\nSystem Mentions:\")\n",
        "for system, count in results['statistics']['system_mentions'].items():\n",
        "    print(f\"{system}: {count}\")\n"
      ]
    },
    {
      "cell_type": "code",
      "execution_count": 19,
      "metadata": {
        "colab": {
          "base_uri": "https://localhost:8080/",
          "height": 997
        },
        "id": "3zlE4ZIig1H4",
        "outputId": "25be7221-dbff-446c-a32a-1b6ca1596ae3"
      },
      "outputs": [
        {
          "data": {
            "image/png": "[encoded data removed]",
            "text/plain": [
              "<Figure size 1000x500 with 1 Axes>"
            ]
          },
          "metadata": {},
          "output_type": "display_data"
        },
        {
          "data": {
            "image/png": "[encoded data removed]",
            "text/plain": [
              "<Figure size 1200x500 with 1 Axes>"
            ]
          },
          "metadata": {},
          "output_type": "display_data"
        }
      ],
      "source": [
        "# Visualize results\n",
        "visualize_log_analysis(results)\n"
      ]
    },
    {
      "cell_type": "code",
      "execution_count": 20,
      "metadata": {
        "colab": {
          "base_uri": "https://localhost:8080/"
        },
        "id": "a3HspB5Og36g",
        "outputId": "b0a32fb1-363b-46bb-cffb-1fa659c7edce"
      },
      "outputs": [
        {
          "name": "stdout",
          "output_type": "stream",
          "text": [
            "\n",
            "Critical Events Timeline:\n",
            "2024-01-24 08:15:22 - ERROR - Database01 connection failed at 192.168.1.100. Retry attempt 1 initiated.\n",
            "2024-01-24 08:16:05 - ERROR - Database01 connection failed at 192.168.1.100. Retry attempt 2 initiated.\n",
            "2024-01-24 08:25:10 - ERROR - SecurityModule detected unauthorized access attempt from IP 203.0.113.45.\n"
          ]
        }
      ],
      "source": [
        "# Create timeline of critical events\n",
        "critical_events = [entry for entry in results['entries']\n",
        "                  if entry['level'] in ['ERROR', 'CRITICAL']]\n",
        "print(\"\\nCritical Events Timeline:\")\n",
        "for event in critical_events:\n",
        "    print(f\"{event['timestamp']} - {event['message']}\")"
      ]
    },
    {
      "cell_type": "markdown",
      "metadata": {
        "id": "kQj-QxCidFyE"
      },
      "source": [
        "## 2. Simple Customer Feedback Analysis"
      ]
    },
    {
      "cell_type": "code",
      "execution_count": 21,
      "metadata": {
        "id": "pcO0R5bgdEvT"
      },
      "outputs": [],
      "source": [
        "def analyze_feedback(feedback_text):\n",
        "    \"\"\"Analyze customer feedback for products and features\"\"\"\n",
        "    doc = nlp(feedback_text)\n",
        "\n",
        "    analysis = {\n",
        "        'products': [ent.text for ent in doc.ents if ent.label_ == 'PRODUCT'],\n",
        "        'companies': [ent.text for ent in doc.ents if ent.label_ == 'ORG'],\n",
        "        'features_mentioned': [token.text for token in doc if token.pos_ == 'NOUN']\n",
        "    }\n",
        "\n",
        "    return analysis"
      ]
    },
    {
      "cell_type": "code",
      "execution_count": 22,
      "metadata": {
        "id": "fit4qiWjdSkO"
      },
      "outputs": [],
      "source": [
        "# Test feedback analysis\n",
        "feedback = \"\"\"\n",
        "The new iPhone camera is amazing but the battery life needs improvement.\n",
        "Apple should focus on battery technology.\n",
        "\"\"\""
      ]
    },
    {
      "cell_type": "code",
      "execution_count": 23,
      "metadata": {
        "colab": {
          "base_uri": "https://localhost:8080/"
        },
        "id": "n5a36aPAdg3P",
        "outputId": "77dbfb54-b30c-4739-cd50-6986ad432e15"
      },
      "outputs": [
        {
          "name": "stdout",
          "output_type": "stream",
          "text": [
            "\n",
            "Feedback Analysis Results: {'products': [], 'companies': ['Apple'], 'features_mentioned': ['camera', 'battery', 'life', 'improvement', 'battery', 'technology']}\n"
          ]
        }
      ],
      "source": [
        "feedback_results = analyze_feedback(feedback)\n",
        "print(\"\\nFeedback Analysis Results:\", feedback_results)"
      ]
    },
    {
      "cell_type": "markdown",
      "metadata": {
        "id": "MU39yYw8jP16"
      },
      "source": [
        "# Customer Feedback Analysis with NER\n",
        "\n",
        " We'll extract products, features, and sentiment from customer reviews using spaCy and TextBlob.\n",
        "\n",
        "## Key Features\n",
        "- Product identification\n",
        "- Feature extraction\n",
        "- Sentiment analysis (TextBlob)\n",
        "- Key phrase detection\n",
        "\n",
        "## Use Cases\n",
        "- Product improvement insights\n",
        "- Customer satisfaction monitoring\n",
        "- Feature prioritization\n",
        "- Competitive analysis\n",
        "\n"
      ]
    },
    {
      "cell_type": "code",
      "execution_count": 24,
      "metadata": {
        "id": "2BTFlTjrjQfc"
      },
      "outputs": [],
      "source": [
        "def analyze_customer_feedback(text):\n",
        "    nlp = spacy.load(\"en_core_web_sm\")\n",
        "    doc = nlp(text)\n",
        "\n",
        "    # Custom product and feature lists\n",
        "    products = [\"iPhone\", \"iPad\", \"MacBook\", \"Galaxy\", \"Pixel\", \"Surface\"]\n",
        "    features = [\"camera\", \"battery\", \"screen\", \"display\", \"speaker\", \"performance\",\n",
        "               \"speed\", \"design\", \"weight\", \"price\", \"storage\"]\n",
        "\n",
        "    analysis = {\n",
        "        'products': [token.text for token in doc if token.text in products],\n",
        "        'features': [token.text for token in doc if token.text in features],\n",
        "        'sentiment': TextBlob(text).sentiment.polarity,\n",
        "        'nouns': [chunk.text for chunk in doc.noun_chunks]\n",
        "    }\n",
        "\n",
        "    return analysis\n"
      ]
    },
    {
      "cell_type": "code",
      "execution_count": 25,
      "metadata": {
        "id": "BDWCZcaZkJ-9"
      },
      "outputs": [],
      "source": [
        "# Test cases\n",
        "feedback_samples = [\n",
        "    \"\"\"The iPhone 14's camera is amazing! Battery life could be better though.\"\"\",\n",
        "\n",
        "    \"\"\"Not happy with my new Pixel's screen brightness. The speaker quality is great\n",
        "    but the battery drains too fast.\"\"\",\n",
        "\n",
        "    \"\"\"MacBook performance is outstanding, but the price is too high. Love the design and weight though.\"\"\",\n",
        "\n",
        "    \"\"\"The Galaxy's display is beautiful. Camera needs improvement,\n",
        "    especially in low light. Storage space is sufficient.\"\"\"\n",
        "]"
      ]
    },
    {
      "cell_type": "code",
      "execution_count": 26,
      "metadata": {
        "colab": {
          "base_uri": "https://localhost:8080/"
        },
        "id": "nRmg9CLTkNRs",
        "outputId": "12412ff5-9b76-43de-8f18-a8aec5f8e8d0"
      },
      "outputs": [
        {
          "name": "stdout",
          "output_type": "stream",
          "text": [
            "\n",
            "Feedback 1 Analysis:\n",
            "Products: ['iPhone']\n",
            "Features: ['camera']\n",
            "Sentiment: 0.62\n",
            "Key phrases: [\"The iPhone 14's camera\", 'Battery life']\n",
            "\n",
            "Feedback 2 Analysis:\n",
            "Products: ['Pixel']\n",
            "Features: ['screen', 'speaker', 'battery']\n",
            "Sentiment: 0.18\n",
            "Key phrases: [\"my new Pixel's screen brightness\", 'The speaker quality', 'the battery']\n",
            "\n",
            "Feedback 3 Analysis:\n",
            "Products: ['MacBook']\n",
            "Features: ['performance', 'price', 'design', 'weight']\n",
            "Sentiment: 0.39\n",
            "Key phrases: ['MacBook performance', 'the price', 'the design', 'weight']\n",
            "\n",
            "Feedback 4 Analysis:\n",
            "Products: ['Galaxy']\n",
            "Features: ['display']\n",
            "Sentiment: 0.42\n",
            "Key phrases: [\"The Galaxy's display\", 'Camera', 'improvement', 'low light', 'Storage space']\n"
          ]
        }
      ],
      "source": [
        "for i, feedback in enumerate(feedback_samples, 1):\n",
        "    result = analyze_customer_feedback(feedback)\n",
        "    print(f\"\\nFeedback {i} Analysis:\")\n",
        "    print(f\"Products: {result['products']}\")\n",
        "    print(f\"Features: {result['features']}\")\n",
        "    print(f\"Sentiment: {result['sentiment']:.2f}\")\n",
        "    print(f\"Key phrases: {result['nouns']}\")\n"
      ]
    },
    {
      "cell_type": "markdown",
      "metadata": {
        "id": "F7IofXm3dsDI"
      },
      "source": [
        "# 3. Document Information Extraction"
      ]
    },
    {
      "cell_type": "code",
      "execution_count": 27,
      "metadata": {
        "id": "tiIMqYY_dvat"
      },
      "outputs": [],
      "source": [
        "def extract_document_info(text):\n",
        "    \"\"\"Extract key information from documents\"\"\"\n",
        "    doc = nlp(text)\n",
        "\n",
        "    info = {\n",
        "        'people': [ent.text for ent in doc.ents if ent.label_ == 'PERSON'],\n",
        "        'organizations': [ent.text for ent in doc.ents if ent.label_ == 'ORG'],\n",
        "        'locations': [ent.text for ent in doc.ents if ent.label_ == 'GPE'],\n",
        "        'dates': [ent.text for ent in doc.ents if ent.label_ == 'DATE']\n",
        "    }\n",
        "\n",
        "    return info"
      ]
    },
    {
      "cell_type": "code",
      "execution_count": 28,
      "metadata": {
        "colab": {
          "base_uri": "https://localhost:8080/"
        },
        "id": "wbef8twbdz1j",
        "outputId": "96b6464a-6a49-4de4-eb2d-134597446cd7"
      },
      "outputs": [
        {
          "name": "stdout",
          "output_type": "stream",
          "text": [
            "\n",
            "Document Analysis: {'people': ['John Smith'], 'organizations': ['Microsoft', 'Google', 'Apple'], 'locations': ['New York'], 'dates': ['December 5, 2024']}\n"
          ]
        }
      ],
      "source": [
        "# Test document analysis\n",
        "document = \"\"\"\n",
        "John Smith from Microsoft presented at the conference in New York\n",
        "on December 5, 2024. Google and Apple also attended the event.\n",
        "\"\"\"\n",
        "\n",
        "doc_results = extract_document_info(document)\n",
        "print(\"\\nDocument Analysis:\", doc_results)"
      ]
    },
    {
      "cell_type": "code",
      "execution_count": 29,
      "metadata": {
        "id": "awZnTHz1d3md"
      },
      "outputs": [],
      "source": [
        "# Visualization of Entity Distribution\n",
        "def visualize_entities(text):\n",
        "    \"\"\"Create a simple visualization of entity types\"\"\"\n",
        "    doc = nlp(text)\n",
        "    entity_counts = Counter([ent.label_ for ent in doc.ents])\n",
        "\n",
        "    # Convert to DataFrame for visualization\n",
        "    df = pd.DataFrame.from_dict(entity_counts, orient='index', columns=['count'])\n",
        "    df.plot(kind='bar', title='Entity Types Distribution')\n"
      ]
    },
    {
      "cell_type": "code",
      "execution_count": 30,
      "metadata": {
        "colab": {
          "base_uri": "https://localhost:8080/",
          "height": 529
        },
        "id": "u0SnZZw-d6Tl",
        "outputId": "ff37b5d2-d123-4254-c2ab-c417296b61cb"
      },
      "outputs": [
        {
          "name": "stdout",
          "output_type": "stream",
          "text": [
            "\n",
            "Visualizing entities in the document:\n"
          ]
        },
        {
          "data": {
            "image/png": "[encoded data removed]",
            "text/plain": [
              "<Figure size 640x480 with 1 Axes>"
            ]
          },
          "metadata": {},
          "output_type": "display_data"
        }
      ],
      "source": [
        "# Test visualization\n",
        "print(\"\\nVisualizing entities in the document:\")\n",
        "visualize_entities(document)"
      ]
    },
    {
      "cell_type": "markdown",
      "metadata": {
        "id": "N4dLniC6XalV"
      },
      "source": [
        "# 4. Summarize important entities"
      ]
    },
    {
      "cell_type": "code",
      "execution_count": 31,
      "metadata": {
        "colab": {
          "base_uri": "https://localhost:8080/"
        },
        "id": "LqrOXh1aXUFB",
        "outputId": "9f689563-d7ad-4df4-8b20-507b428475ef"
      },
      "outputs": [
        {
          "name": "stdout",
          "output_type": "stream",
          "text": [
            "Top Entities:\n",
            "\n",
            "Entity: ai\n",
            "Type: ORG\n",
            "Frequency: 3\n",
            "Example contexts:\n",
            "- Apple Inc. announced new AI features today.\n",
            "- Google and Microsoft have also\n",
            "been expanding their AI capabilities.\n",
            "\n",
            "Entity: apple\n",
            "Type: ORG\n",
            "Frequency: 3\n",
            "Example contexts:\n",
            "- Apple Inc. announced new AI features today.\n",
            "- The company's CEO Tim Cook presented\n",
            "the features at Apple's headquarters in Cupertino.\n",
            "\n",
            "Entity: tim cook\n",
            "Type: PERSON\n",
            "Frequency: 2\n",
            "Example contexts:\n",
            "- The company's CEO Tim Cook presented\n",
            "the features at Apple's headquarters in Cupertino.\n",
            "- Tim Cook emphasized Apple's commitment to\n",
            "privacy in AI development.\n",
            "\n",
            "Entity: cupertino\n",
            "Type: GPE\n",
            "Frequency: 2\n",
            "Example contexts:\n",
            "- The company's CEO Tim Cook presented\n",
            "the features at Apple's headquarters in Cupertino.\n",
            "- The presentation in Cupertino showcased several new\n",
            "Apple products.\n",
            "\n",
            "Entity: apple inc.\n",
            "Type: ORG\n",
            "Frequency: 1\n",
            "Example contexts:\n",
            "- Apple Inc. announced new AI features today.\n",
            "\n",
            "Entities by Type:\n",
            "ORG: Microsoft, Google, Apple, AI, Apple Inc.\n",
            "DATE: today\n",
            "PERSON: Tim Cook\n",
            "GPE: AI, Cupertino\n",
            "\n",
            "Total entities found: 14\n"
          ]
        }
      ],
      "source": [
        "import spacy\n",
        "from collections import Counter\n",
        "from spacy.tokens import Doc\n",
        "\n",
        "def summarize_important_entities(text: str) -> dict:\n",
        "    \"\"\"\n",
        "    Generate a summary of important entities from text using frequency and context.\n",
        "    \"\"\"\n",
        "    nlp = spacy.load(\"en_core_web_sm\")\n",
        "    doc = nlp(text)\n",
        "\n",
        "    # Count entity frequencies\n",
        "    entity_freq = Counter([ent.text.lower() for ent in doc.ents])\n",
        "\n",
        "    # Group entities by type\n",
        "    entities_by_type = {}\n",
        "    for ent in doc.ents:\n",
        "        if ent.label_ not in entities_by_type:\n",
        "            entities_by_type[ent.label_] = []\n",
        "        entities_by_type[ent.label_].append(ent.text)\n",
        "\n",
        "    # Find context for top entities\n",
        "    top_entities = {}\n",
        "    for ent, freq in entity_freq.most_common(5):\n",
        "        contexts = []\n",
        "        for sent in doc.sents:\n",
        "            if ent in sent.text.lower():\n",
        "                contexts.append(sent.text.strip())\n",
        "\n",
        "        # Get entity type\n",
        "        ent_type = next((e.label_ for e in doc.ents if e.text.lower() == ent), None)\n",
        "\n",
        "        top_entities[ent] = {\n",
        "            'frequency': freq,\n",
        "            'type': ent_type,\n",
        "            'contexts': contexts[:2]  # Limit to 2 example contexts\n",
        "        }\n",
        "\n",
        "    return {\n",
        "        'top_entities': top_entities,\n",
        "        'entities_by_type': entities_by_type,\n",
        "        'total_entities': len(doc.ents)\n",
        "    }\n",
        "\n",
        "# Example usage\n",
        "text = \"\"\"\n",
        "Apple Inc. announced new AI features today. The company's CEO Tim Cook presented\n",
        "the features at Apple's headquarters in Cupertino. Google and Microsoft have also\n",
        "been expanding their AI capabilities. Tim Cook emphasized Apple's commitment to\n",
        "privacy in AI development. The presentation in Cupertino showcased several new\n",
        "Apple products.\n",
        "\"\"\"\n",
        "\n",
        "summary = summarize_important_entities(text)\n",
        "\n",
        "print(\"Top Entities:\")\n",
        "for entity, details in summary['top_entities'].items():\n",
        "    print(f\"\\nEntity: {entity}\")\n",
        "    print(f\"Type: {details['type']}\")\n",
        "    print(f\"Frequency: {details['frequency']}\")\n",
        "    print(\"Example contexts:\")\n",
        "    for context in details['contexts']:\n",
        "        print(f\"- {context}\")\n",
        "\n",
        "print(\"\\nEntities by Type:\")\n",
        "for type_, entities in summary['entities_by_type'].items():\n",
        "    print(f\"{type_}: {', '.join(set(entities))}\")\n",
        "\n",
        "print(f\"\\nTotal entities found: {summary['total_entities']}\")"
      ]
    },
    {
      "cell_type": "markdown",
      "metadata": {
        "id": "RH0K-SCCZCVW"
      },
      "source": [
        "#Task: Medical Named Entity Recognition Challenge\n",
        "Task: Create a system to analyze medical records and extract key information:\n",
        "\n",
        "1. Basic Task:\n",
        "- Extract all healthcare providers (doctors)\n",
        "- Extract medical facilities\n",
        "- Extract dates of visits/procedures\n",
        "- Print these in a clear format\n",
        "\n",
        "2. Intermediate Task:\n",
        "- Identify medications and their dosages\n",
        "- Extract medical conditions/diagnoses\n",
        "- Track measurements (like HbA1c, blood pressure)\n",
        "\n",
        "\n",
        "\n",
        "Sample medical records are provided below. Test your code with these and create your own examples.\n",
        "\n",
        "\n",
        "**Sample medical records for testing**\n",
        "\n",
        "\n"
      ]
    },
    {
      "cell_type": "code",
      "execution_count": 32,
      "metadata": {
        "id": "RFEqkztqaGzW"
      },
      "outputs": [],
      "source": [
        "test_records = [\n",
        "    \"\"\"\n",
        "    Initial Visit - 01/15/2024\n",
        "    Dr. James Wilson at City Hospital performed initial consultation.\n",
        "    Patient presents with frequent headaches and high blood pressure (150/90).\n",
        "    Prescribed Amlodipine 5mg daily.\n",
        "    \"\"\",\n",
        "\n",
        "    \"\"\"\n",
        "    Follow-up - 02/28/2024\n",
        "    Dr. Sarah Lee at Medical Center reviewed progress.\n",
        "    BP improved to 130/85. Headaches reduced.\n",
        "    Continue Amlodipine 5mg, added Vitamin D 2000IU.\n",
        "    Referred to Dr. Chen at Neurology Clinic.\n",
        "    \"\"\"\n",
        "]"
      ]
    }
  ],
  "metadata": {
    "colab": {
      "provenance": []
    },
    "kernelspec": {
      "display_name": "nlptest",
      "language": "python",
      "name": "python3"
    },
    "language_info": {
      "codemirror_mode": {
        "name": "ipython",
        "version": 3
      },
      "file_extension": ".py",
      "mimetype": "text/x-python",
      "name": "python",
      "nbconvert_exporter": "python",
      "pygments_lexer": "ipython3",
      "version": "3.12.0"
    }
  },
  "nbformat": 4,
  "nbformat_minor": 0
}
