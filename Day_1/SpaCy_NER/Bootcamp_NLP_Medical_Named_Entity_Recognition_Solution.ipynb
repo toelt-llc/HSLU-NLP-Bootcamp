{
  "cells": [
    {
      "cell_type": "markdown",
      "metadata": {
        "id": "dKZhXcnCYs2L"
      },
      "source": [
        "This task involves building a medical Named Entity Recognition (NER) system to automatically extract key information from clinical notes and medical records. The system identifies and categorizes medical entities like healthcare providers, facilities, dates, medications, diagnoses, and measurements. We use spaCy's transformer-based model (en_core_web_trf) to achieve more accurate entity recognition that can parse unstructured medical text and convert it into structured data."
      ]
    },
    {
      "cell_type": "markdown",
      "metadata": {
        "id": "vWcl_8w9X2XM"
      },
      "source": [
        "**Note!** Since we work with medical data, it is better to work with the largest spaCy model, en_core_web_trf, which is transformer-based. To use this model, you will need to install transformers and RESTART the whole notebook again to be sure that the whole installation went well."
      ]
    },
    {
      "cell_type": "markdown",
      "metadata": {},
      "source": [
        "<a target=\"_blank\" href=\"https://colab.research.google.com/github/toelt-llc/HSLU-NLP-Bootcamp/blob/main/Day_1/SpaCy_NER/Bootcamp_NLP_Medical_Named_Entity_Recognition_Solution.ipynb\">\n",
        "  <img src=\"https://colab.research.google.com/assets/colab-badge.svg\" alt=\"Open In Colab\"/>\n",
        "</a>"
      ]
    },
    {
      "cell_type": "code",
      "execution_count": 9,
      "metadata": {
        "id": "xDM1APGzYwGT"
      },
      "outputs": [],
      "source": [
        "import spacy\n",
        "import re"
      ]
    },
    {
      "cell_type": "code",
      "execution_count": 2,
      "metadata": {
        "colab": {
          "base_uri": "https://localhost:8080/"
        },
        "id": "gW8ncL0bWQAx",
        "outputId": "38135906-187d-4478-96bd-b77713e589ec"
      },
      "outputs": [
        {
          "name": "stdout",
          "output_type": "stream",
          "text": [
            "Requirement already satisfied: transformers in /usr/local/lib/python3.11/dist-packages (4.49.0)\n",
            "Requirement already satisfied: filelock in /usr/local/lib/python3.11/dist-packages (from transformers) (3.18.0)\n",
            "Requirement already satisfied: huggingface-hub<1.0,>=0.26.0 in /usr/local/lib/python3.11/dist-packages (from transformers) (0.29.3)\n",
            "Requirement already satisfied: numpy>=1.17 in /usr/local/lib/python3.11/dist-packages (from transformers) (2.0.2)\n",
            "Requirement already satisfied: packaging>=20.0 in /usr/local/lib/python3.11/dist-packages (from transformers) (24.2)\n",
            "Requirement already satisfied: pyyaml>=5.1 in /usr/local/lib/python3.11/dist-packages (from transformers) (6.0.2)\n",
            "Requirement already satisfied: regex!=2019.12.17 in /usr/local/lib/python3.11/dist-packages (from transformers) (2024.11.6)\n",
            "Requirement already satisfied: requests in /usr/local/lib/python3.11/dist-packages (from transformers) (2.32.3)\n",
            "Requirement already satisfied: tokenizers<0.22,>=0.21 in /usr/local/lib/python3.11/dist-packages (from transformers) (0.21.1)\n",
            "Requirement already satisfied: safetensors>=0.4.1 in /usr/local/lib/python3.11/dist-packages (from transformers) (0.5.3)\n",
            "Requirement already satisfied: tqdm>=4.27 in /usr/local/lib/python3.11/dist-packages (from transformers) (4.67.1)\n",
            "Requirement already satisfied: fsspec>=2023.5.0 in /usr/local/lib/python3.11/dist-packages (from huggingface-hub<1.0,>=0.26.0->transformers) (2025.3.0)\n",
            "Requirement already satisfied: typing-extensions>=3.7.4.3 in /usr/local/lib/python3.11/dist-packages (from huggingface-hub<1.0,>=0.26.0->transformers) (4.12.2)\n",
            "Requirement already satisfied: charset-normalizer<4,>=2 in /usr/local/lib/python3.11/dist-packages (from requests->transformers) (3.4.1)\n",
            "Requirement already satisfied: idna<4,>=2.5 in /usr/local/lib/python3.11/dist-packages (from requests->transformers) (3.10)\n",
            "Requirement already satisfied: urllib3<3,>=1.21.1 in /usr/local/lib/python3.11/dist-packages (from requests->transformers) (2.3.0)\n",
            "Requirement already satisfied: certifi>=2017.4.17 in /usr/local/lib/python3.11/dist-packages (from requests->transformers) (2025.1.31)\n"
          ]
        }
      ],
      "source": [
        "# install transformers library\n",
        "!pip install transformers"
      ]
    },
    {
      "cell_type": "code",
      "execution_count": 3,
      "metadata": {
        "colab": {
          "base_uri": "https://localhost:8080/"
        },
        "id": "wpow0IEFWdla",
        "outputId": "d2a353b7-15d6-41f1-c77a-c53bbdf5dd78"
      },
      "outputs": [
        {
          "name": "stdout",
          "output_type": "stream",
          "text": [
            "Collecting en-core-web-trf==3.8.0\n",
            "  Downloading https://github.com/explosion/spacy-models/releases/download/en_core_web_trf-3.8.0/en_core_web_trf-3.8.0-py3-none-any.whl (457.4 MB)\n",
            "\u001b[2K     \u001b[90m━━━━━━━━━━━━━━━━━━━━━━━━━━━━━━━━━━━━━━━━\u001b[0m \u001b[32m457.4/457.4 MB\u001b[0m \u001b[31m1.2 MB/s\u001b[0m eta \u001b[36m0:00:00\u001b[0m\n",
            "\u001b[?25hRequirement already satisfied: spacy-curated-transformers<1.0.0,>=0.2.2 in /usr/local/lib/python3.11/dist-packages (from en-core-web-trf==3.8.0) (0.3.0)\n",
            "Requirement already satisfied: curated-transformers<0.2.0,>=0.1.0 in /usr/local/lib/python3.11/dist-packages (from spacy-curated-transformers<1.0.0,>=0.2.2->en-core-web-trf==3.8.0) (0.1.1)\n",
            "Requirement already satisfied: curated-tokenizers<0.1.0,>=0.0.9 in /usr/local/lib/python3.11/dist-packages (from spacy-curated-transformers<1.0.0,>=0.2.2->en-core-web-trf==3.8.0) (0.0.9)\n",
            "Requirement already satisfied: torch>=1.12.0 in /usr/local/lib/python3.11/dist-packages (from spacy-curated-transformers<1.0.0,>=0.2.2->en-core-web-trf==3.8.0) (2.6.0+cu124)\n",
            "Requirement already satisfied: regex>=2022 in /usr/local/lib/python3.11/dist-packages (from curated-tokenizers<0.1.0,>=0.0.9->spacy-curated-transformers<1.0.0,>=0.2.2->en-core-web-trf==3.8.0) (2024.11.6)\n",
            "Requirement already satisfied: filelock in /usr/local/lib/python3.11/dist-packages (from torch>=1.12.0->spacy-curated-transformers<1.0.0,>=0.2.2->en-core-web-trf==3.8.0) (3.18.0)\n",
            "Requirement already satisfied: typing-extensions>=4.10.0 in /usr/local/lib/python3.11/dist-packages (from torch>=1.12.0->spacy-curated-transformers<1.0.0,>=0.2.2->en-core-web-trf==3.8.0) (4.12.2)\n",
            "Requirement already satisfied: networkx in /usr/local/lib/python3.11/dist-packages (from torch>=1.12.0->spacy-curated-transformers<1.0.0,>=0.2.2->en-core-web-trf==3.8.0) (3.4.2)\n",
            "Requirement already satisfied: jinja2 in /usr/local/lib/python3.11/dist-packages (from torch>=1.12.0->spacy-curated-transformers<1.0.0,>=0.2.2->en-core-web-trf==3.8.0) (3.1.6)\n",
            "Requirement already satisfied: fsspec in /usr/local/lib/python3.11/dist-packages (from torch>=1.12.0->spacy-curated-transformers<1.0.0,>=0.2.2->en-core-web-trf==3.8.0) (2025.3.0)\n",
            "Requirement already satisfied: nvidia-cuda-nvrtc-cu12==12.4.127 in /usr/local/lib/python3.11/dist-packages (from torch>=1.12.0->spacy-curated-transformers<1.0.0,>=0.2.2->en-core-web-trf==3.8.0) (12.4.127)\n",
            "Requirement already satisfied: nvidia-cuda-runtime-cu12==12.4.127 in /usr/local/lib/python3.11/dist-packages (from torch>=1.12.0->spacy-curated-transformers<1.0.0,>=0.2.2->en-core-web-trf==3.8.0) (12.4.127)\n",
            "Requirement already satisfied: nvidia-cuda-cupti-cu12==12.4.127 in /usr/local/lib/python3.11/dist-packages (from torch>=1.12.0->spacy-curated-transformers<1.0.0,>=0.2.2->en-core-web-trf==3.8.0) (12.4.127)\n",
            "Requirement already satisfied: nvidia-cudnn-cu12==9.1.0.70 in /usr/local/lib/python3.11/dist-packages (from torch>=1.12.0->spacy-curated-transformers<1.0.0,>=0.2.2->en-core-web-trf==3.8.0) (9.1.0.70)\n",
            "Requirement already satisfied: nvidia-cublas-cu12==12.4.5.8 in /usr/local/lib/python3.11/dist-packages (from torch>=1.12.0->spacy-curated-transformers<1.0.0,>=0.2.2->en-core-web-trf==3.8.0) (12.4.5.8)\n",
            "Requirement already satisfied: nvidia-cufft-cu12==11.2.1.3 in /usr/local/lib/python3.11/dist-packages (from torch>=1.12.0->spacy-curated-transformers<1.0.0,>=0.2.2->en-core-web-trf==3.8.0) (11.2.1.3)\n",
            "Requirement already satisfied: nvidia-curand-cu12==10.3.5.147 in /usr/local/lib/python3.11/dist-packages (from torch>=1.12.0->spacy-curated-transformers<1.0.0,>=0.2.2->en-core-web-trf==3.8.0) (10.3.5.147)\n",
            "Requirement already satisfied: nvidia-cusolver-cu12==11.6.1.9 in /usr/local/lib/python3.11/dist-packages (from torch>=1.12.0->spacy-curated-transformers<1.0.0,>=0.2.2->en-core-web-trf==3.8.0) (11.6.1.9)\n",
            "Requirement already satisfied: nvidia-cusparse-cu12==12.3.1.170 in /usr/local/lib/python3.11/dist-packages (from torch>=1.12.0->spacy-curated-transformers<1.0.0,>=0.2.2->en-core-web-trf==3.8.0) (12.3.1.170)\n",
            "Requirement already satisfied: nvidia-cusparselt-cu12==0.6.2 in /usr/local/lib/python3.11/dist-packages (from torch>=1.12.0->spacy-curated-transformers<1.0.0,>=0.2.2->en-core-web-trf==3.8.0) (0.6.2)\n",
            "Requirement already satisfied: nvidia-nccl-cu12==2.21.5 in /usr/local/lib/python3.11/dist-packages (from torch>=1.12.0->spacy-curated-transformers<1.0.0,>=0.2.2->en-core-web-trf==3.8.0) (2.21.5)\n",
            "Requirement already satisfied: nvidia-nvtx-cu12==12.4.127 in /usr/local/lib/python3.11/dist-packages (from torch>=1.12.0->spacy-curated-transformers<1.0.0,>=0.2.2->en-core-web-trf==3.8.0) (12.4.127)\n",
            "Requirement already satisfied: nvidia-nvjitlink-cu12==12.4.127 in /usr/local/lib/python3.11/dist-packages (from torch>=1.12.0->spacy-curated-transformers<1.0.0,>=0.2.2->en-core-web-trf==3.8.0) (12.4.127)\n",
            "Requirement already satisfied: triton==3.2.0 in /usr/local/lib/python3.11/dist-packages (from torch>=1.12.0->spacy-curated-transformers<1.0.0,>=0.2.2->en-core-web-trf==3.8.0) (3.2.0)\n",
            "Requirement already satisfied: sympy==1.13.1 in /usr/local/lib/python3.11/dist-packages (from torch>=1.12.0->spacy-curated-transformers<1.0.0,>=0.2.2->en-core-web-trf==3.8.0) (1.13.1)\n",
            "Requirement already satisfied: mpmath<1.4,>=1.1.0 in /usr/local/lib/python3.11/dist-packages (from sympy==1.13.1->torch>=1.12.0->spacy-curated-transformers<1.0.0,>=0.2.2->en-core-web-trf==3.8.0) (1.3.0)\n",
            "Requirement already satisfied: MarkupSafe>=2.0 in /usr/local/lib/python3.11/dist-packages (from jinja2->torch>=1.12.0->spacy-curated-transformers<1.0.0,>=0.2.2->en-core-web-trf==3.8.0) (3.0.2)\n",
            "\u001b[38;5;2m✔ Download and installation successful\u001b[0m\n",
            "You can now load the package via spacy.load('en_core_web_trf')\n",
            "\u001b[38;5;3m⚠ Restart to reload dependencies\u001b[0m\n",
            "If you are in a Jupyter or Colab notebook, you may need to restart Python in\n",
            "order to load all the package's dependencies. You can do this by selecting the\n",
            "'Restart kernel' or 'Restart runtime' option.\n"
          ]
        }
      ],
      "source": [
        "#download spaCy transformer model\n",
        "!python -m spacy download en_core_web_trf"
      ]
    },
    {
      "cell_type": "code",
      "execution_count": 4,
      "metadata": {
        "id": "Kemwwy9PWSzl"
      },
      "outputs": [],
      "source": [
        "# Load largest spaCy model based on transformers\n",
        "nlp = spacy.load(\"en_core_web_trf\")"
      ]
    },
    {
      "cell_type": "code",
      "execution_count": 5,
      "metadata": {
        "id": "IHDE-jS3SKWv"
      },
      "outputs": [],
      "source": [
        "test_records = [\n",
        "    \"\"\"\n",
        "    Initial Visit - 01/15/2024\n",
        "    Dr. James Wilson at City Hospital performed initial consultation.\n",
        "    Patient presents with frequent headaches and high blood pressure (150/90).\n",
        "    Prescribed Amlodipine 5mg daily.\n",
        "    \"\"\",\n",
        "\n",
        "    \"\"\"\n",
        "    Follow-up - 02/28/2024\n",
        "    Dr. Sarah Lee at Medical Center reviewed progress.\n",
        "    BP improved to 130/85. Headaches reduced.\n",
        "    Continue Amlodipine 5mg, added Vitamin D 2000IU.\n",
        "    Referred to Dr. Chen at Neurology Clinic.\n",
        "    \"\"\"\n",
        "]"
      ]
    },
    {
      "cell_type": "code",
      "execution_count": 6,
      "metadata": {
        "id": "7w13f58VSIoW"
      },
      "outputs": [],
      "source": [
        "def extract_medical_info(text):\n",
        "    \"\"\"Extract key medical information from documents\"\"\"\n",
        "    doc = nlp(text)\n",
        "\n",
        "    # Use built-in NER for people and organizations\n",
        "    doctors = [ent.text for ent in doc.ents if ent.label_ == 'PERSON' and\n",
        "              (text.lower().find('dr. ' + ent.text.lower()) != -1 or\n",
        "               text.lower().find('doctor ' + ent.text.lower()) != -1)]\n",
        "\n",
        "    facilities = [ent.text for ent in doc.ents if ent.label_ == 'ORG' or\n",
        "                 (ent.label_ == 'GPE' and\n",
        "                  any(term in text[max(0, ent.start_char-15):ent.end_char+15].lower()\n",
        "                      for term in ['hospital', 'clinic', 'center', 'medical']))]\n",
        "\n",
        "    # Extract dates using built-in NER\n",
        "    dates = [ent.text for ent in doc.ents if ent.label_ == 'DATE']\n",
        "\n",
        "\n",
        "    # Simple regex patern for medications and dosages\n",
        "    medications = []\n",
        "    med_pattern = r'\\b([A-Z][a-z]+(?:\\s[A-Z][a-z]+)?)\\s+(\\d+(?:\\.\\d+)?(?:\\s*(?:mg|mcg|g|mL|IU))+(?:\\s+(?:daily|twice|weekly|monthly)?)?)\\b'\n",
        "    for match in re.finditer(med_pattern, text):\n",
        "        medications.append(f\"{match.group(1)} {match.group(2)}\")\n",
        "\n",
        "    # Simple regex patern for diagnoses - find common conditions\n",
        "    diagnoses = []\n",
        "    condition_keywords = ['headache', 'blood pressure', 'hypertension', 'diabetes']\n",
        "    for keyword in condition_keywords:\n",
        "        if keyword in text.lower():\n",
        "            # Find the full phrase containing the keyword\n",
        "            sentence = next((s for s in doc.sents if keyword in s.text.lower()), None)\n",
        "            if sentence:\n",
        "                diagnoses.append(keyword)\n",
        "\n",
        "    # Simple regex for measurements (especially blood pressure)\n",
        "    measurements = []\n",
        "    bp_pattern = r'\\b(\\d{2,3}/\\d{2,3})\\b'\n",
        "    for match in re.finditer(bp_pattern, text):\n",
        "        # Check if BP or blood pressure is mentioned nearby\n",
        "        context = text[max(0, match.start()-20):min(len(text), match.end()+20)]\n",
        "        if 'bp' in context.lower() or 'blood pressure' in context.lower() or 'pressure' in context.lower():\n",
        "            measurements.append(match.group(1))\n",
        "\n",
        "    # Compile all extracted information\n",
        "    info = {\n",
        "        'doctors': doctors,\n",
        "        'facilities': facilities,\n",
        "        'dates': dates,\n",
        "        'medications': medications,\n",
        "        'diagnoses': diagnoses,\n",
        "        'measurements': measurements\n",
        "    }\n",
        "\n",
        "    return info\n"
      ]
    },
    {
      "cell_type": "code",
      "execution_count": 8,
      "metadata": {
        "colab": {
          "base_uri": "https://localhost:8080/"
        },
        "id": "IFE5LKYMQ2Ir",
        "outputId": "7d7e4d77-9481-4c59-f356-592347a94291"
      },
      "outputs": [
        {
          "name": "stdout",
          "output_type": "stream",
          "text": [
            "\n",
            "==================================================\n",
            "RECORD #1\n",
            "==================================================\n",
            "Initial Visit - 01/15/2024\n",
            "    Dr. James Wilson at City Hospital performed initial consultation.\n",
            "    Patient presents with frequent headaches and high blood pressure (150/90).\n",
            "    Prescribed Amlodipine 5mg daily.\n",
            "\n",
            "Extracted Medical Information:\n",
            "Healthcare Providers: James Wilson\n",
            "Medical Facilities: City Hospital\n",
            "Visit Dates: 01/15/2024, daily\n",
            "Medications: Prescribed Amlodipine 5mg daily\n",
            "Diagnoses: headache, blood pressure\n",
            "Measurements: 150/90\n",
            "\n",
            "==================================================\n",
            "RECORD #2\n",
            "==================================================\n",
            "Follow-up - 02/28/2024\n",
            "    Dr. Sarah Lee at Medical Center reviewed progress.\n",
            "    BP improved to 130/85. Headaches reduced.\n",
            "    Continue Amlodipine 5mg, added Vitamin D 2000IU.\n",
            "    Referred to Dr. Chen at Neurology Clinic.\n",
            "\n",
            "Extracted Medical Information:\n",
            "Healthcare Providers: Sarah Lee, Chen\n",
            "Medical Facilities: Medical Center, Neurology Clinic\n",
            "Visit Dates: 02/28/2024\n",
            "Medications: Continue Amlodipine 5mg\n",
            "Diagnoses: headache\n",
            "Measurements: 130/85\n"
          ]
        }
      ],
      "source": [
        "# Process each record\n",
        "for i, record in enumerate(test_records):\n",
        "    print(f\"\\n{'='*50}\\nRECORD #{i+1}\\n{'='*50}\")\n",
        "    print(record.strip())\n",
        "\n",
        "    med_info = extract_medical_info(record)\n",
        "\n",
        "    print(\"\\nExtracted Medical Information:\")\n",
        "    print(f\"Healthcare Providers: {', '.join(med_info['doctors']) if med_info['doctors'] else 'None found'}\")\n",
        "    print(f\"Medical Facilities: {', '.join(med_info['facilities']) if med_info['facilities'] else 'None found'}\")\n",
        "    print(f\"Visit Dates: {', '.join(med_info['dates']) if med_info['dates'] else 'None found'}\")\n",
        "    print(f\"Medications: {', '.join(med_info['medications']) if med_info['medications'] else 'None found'}\")\n",
        "    print(f\"Diagnoses: {', '.join(med_info['diagnoses']) if med_info['diagnoses'] else 'None found'}\")\n",
        "    print(f\"Measurements: {', '.join(med_info['measurements']) if med_info['measurements'] else 'None found'}\")\n",
        "\n"
      ]
    }
  ],
  "metadata": {
    "colab": {
      "provenance": []
    },
    "kernelspec": {
      "display_name": "Python 3",
      "name": "python3"
    },
    "language_info": {
      "name": "python"
    }
  },
  "nbformat": 4,
  "nbformat_minor": 0
}
