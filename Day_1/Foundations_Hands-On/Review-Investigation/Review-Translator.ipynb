{
 "cells": [
  {
   "cell_type": "markdown",
   "metadata": {},
   "source": [
    "# (Optional) Olist reviews' - Translations...\n",
    "\n",
    "* Unless you speak 🇧🇷 Brazilian Portuguese, let's translate the `order_reviews` in 🇬🇧 English !\n",
    "\n",
    "* You will need to install  `pip install googletrans==4.0.2`"
   ]
  },
  {
   "cell_type": "markdown",
   "metadata": {},
   "source": [
    "*Warning*: If you have any problem with this API, don't waste time fixing it, this package is quite unstable... Keep in mind that:\n",
    "- it is an optional task\n",
    "- you can still do it the old way, copy-pasting some reviews in Google Translate to get a sense of what the reviews written in Brazilian Portuguese mean."
   ]
  },
  {
   "cell_type": "markdown",
   "metadata": {},
   "source": [
    "## Review Translator"
   ]
  },
  {
   "cell_type": "markdown",
   "metadata": {},
   "source": [
    "👉 Load the `reviews` and select a sample of reviews associated to a one-star rating"
   ]
  },
  {
   "cell_type": "code",
   "execution_count": null,
   "metadata": {},
   "outputs": [],
   "source": [
    "# TODO"
   ]
  },
  {
   "cell_type": "markdown",
   "metadata": {},
   "source": [
    "👀 Select a sample of 20 low scores reviews (randomly) and convert it into a list."
   ]
  },
  {
   "cell_type": "code",
   "execution_count": null,
   "metadata": {
    "tags": [
     "challengify"
    ]
   },
   "outputs": [],
   "source": [
    "low_reviews_sample =\\\n",
    "    data['order_reviews'].dropna().query(\"review_score==1\").sample(20)\n",
    "\n",
    "low_reviews_sample_list=\\\n",
    "    low_reviews_sample['review_comment_message'].tolist()"
   ]
  },
  {
   "cell_type": "markdown",
   "metadata": {},
   "source": [
    "🗣 Translate these reviews using the `google_translator` package you've previously installed before starting this exercise:"
   ]
  },
  {
   "cell_type": "code",
   "execution_count": null,
   "metadata": {
    "tags": [
     "challengify"
    ]
   },
   "outputs": [],
   "source": [
    "from googletrans import Translator\n",
    "translator = Translator()\n",
    "\n",
    "translations = []\n",
    "for review in low_reviews_sample_list:\n",
    "    translation = await translator.translate(review, src='pt', dest='en')\n",
    "    print(translation.text, '\\n')\n",
    "    translations.append(translation)"
   ]
  },
  {
   "cell_type": "markdown",
   "metadata": {},
   "source": [
    "**Insights** 💡\n",
    "- Some bad reviews are linked to the delivery (`wait_time`, missed deadline,  etc...)\n",
    "- But some bad reviews are linked to the seller or the product...\n",
    "\n",
    "Potential questions to answer as a Data Scientist:\n",
    "- should we remove some products from the catalogue?\n",
    "- or remove some sellers from their marketplace?\n"
   ]
  }
 ],
 "metadata": {
  "kernelspec": {
   "display_name": "Python 3",
   "language": "python",
   "name": "python3"
  }
 },
 "nbformat": 4,
 "nbformat_minor": 4
}
